{
 "cells": [
  {
   "cell_type": "code",
   "execution_count": 36,
   "metadata": {},
   "outputs": [],
   "source": [
    "# Rank components using PCA\n",
    "\n",
    "from sklearn.decomposition import PCA\n",
    "import pandas as pd\n",
    "import numpy as np\n",
    "import matplotlib.pyplot as plt\n",
    "\n",
    "# Get data\n",
    "data = pd.read_csv('../normalized_data.csv')\n",
    "data['Country'] = data['Country'].astype('category')\n",
    "data['Country'] = data['Country'].cat.codes"
   ]
  },
  {
   "cell_type": "code",
   "execution_count": 37,
   "metadata": {},
   "outputs": [
    {
     "data": {
      "text/plain": [
       "Log GDP per capita                  -1.566043\n",
       "Social support                      -2.272326\n",
       "Healthy life expectancy at birth    -1.246633\n",
       "Freedom to make life choices         0.186624\n",
       "Generosity                           0.946417\n",
       "Perceptions of corruption            0.628387\n",
       "Positive affect                     -2.268112\n",
       "Negative affect                      0.207038\n",
       "Confidence in national government    0.608953\n",
       "Freedom_Rating                      -1.195510\n",
       "Life Expectancy                     -0.981793\n",
       "GDP                                 -0.319156\n",
       "Name: 0, dtype: float64"
      ]
     },
     "execution_count": 37,
     "metadata": {},
     "output_type": "execute_result"
    }
   ],
   "source": [
    "data = data.drop(['Percentile Ranges'], axis=1)\n",
    "data = data.drop(['Unnamed: 0'], axis=1)\n",
    "data = data.drop([\"Happiness_Score_Percentile\"], axis=1)\n",
    "data = data.drop([\"Happiness Score\"], axis=1)\n",
    "data = data.drop([\"Country\"], axis=1)\n",
    "data = data.drop([\"Year\"], axis=1)\n",
    "data = data.dropna()\n",
    "data.iloc[0]"
   ]
  },
  {
   "cell_type": "code",
   "execution_count": 49,
   "metadata": {},
   "outputs": [
    {
     "name": "stdout",
     "output_type": "stream",
     "text": [
      "Features sorted by their corresponding component value:\n",
      "1 )  Healthy life expectancy at birth  :  0.4118\n",
      "2 )  Log GDP per capita  :  0.4112\n",
      "3 )  Life Expectancy  :  0.4071\n",
      "4 )  Social support  :  0.3849\n",
      "5 )  Freedom to make life choices  :  0.2925\n",
      "6 )  Freedom_Rating  :  0.2897\n",
      "7 )  Perceptions of corruption  :  0.2477\n",
      "8 )  Positive affect  :  0.2394\n",
      "9 )  Negative affect  :  0.179\n",
      "10 )  GDP  :  0.1323\n",
      "11 )  Generosity  :  0.0982\n",
      "12 )  Confidence in national government  :  0.0095\n"
     ]
    }
   ],
   "source": [
    "pca = PCA(n_components=1)\n",
    "pca.fit(data)\n",
    "# print(pca.components_)\n",
    "# print(pca.singular_values_)\n",
    "print(\"Features sorted by their corresponding component value:\")\n",
    "l = sorted(zip(map(lambda x: round(x, 4), abs(pca.components_[0])), data.columns), reverse=True)\n",
    "count = 0\n",
    "for i in l:\n",
    "    count+=1\n",
    "    print(str(count), \") \", i[1], \" : \", i[0])\n",
    "# print(sorted(zip(map(lambda x: round(x, 4), pca2.components_[]), data.columns), reverse=True))"
   ]
  }
 ],
 "metadata": {
  "kernelspec": {
   "display_name": "Python 3.9.2 ('cs7643-a2')",
   "language": "python",
   "name": "python3"
  },
  "language_info": {
   "codemirror_mode": {
    "name": "ipython",
    "version": 3
   },
   "file_extension": ".py",
   "mimetype": "text/x-python",
   "name": "python",
   "nbconvert_exporter": "python",
   "pygments_lexer": "ipython3",
   "version": "3.9.2"
  },
  "orig_nbformat": 4,
  "vscode": {
   "interpreter": {
    "hash": "a854752b2c7ec1ab6c8068a9b9478d5f81a8b10c0eed72f7ecbfa3d3c92ed59d"
   }
  }
 },
 "nbformat": 4,
 "nbformat_minor": 2
}
