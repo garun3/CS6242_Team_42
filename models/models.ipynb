{
 "cells": [
  {
   "cell_type": "markdown",
   "metadata": {},
   "source": [
    "# Models"
   ]
  },
  {
   "cell_type": "markdown",
   "metadata": {},
   "source": [
    "### Data Processing"
   ]
  },
  {
   "cell_type": "code",
   "execution_count": 10,
   "metadata": {},
   "outputs": [
    {
     "output_type": "stream",
     "name": "stdout",
     "text": "Requirement already satisfied: graphviz in /Users/Gautham/miniconda3/envs/ai_env/lib/python3.7/site-packages (0.17)\n"
    }
   ],
   "source": [
    "import pandas as pd\n",
    "import numpy as np\n",
    "! pip install graphviz"
   ]
  },
  {
   "cell_type": "markdown",
   "metadata": {},
   "source": [
    "Choose top 4 features (chosen by PCA Analysis)"
   ]
  },
  {
   "cell_type": "code",
   "execution_count": 15,
   "metadata": {},
   "outputs": [
    {
     "output_type": "execute_result",
     "data": {
      "text/plain": "Social support                     -2.888644\nLog GDP per capita                 -1.565348\nHealthy life expectancy at birth   -1.697393\nFreedom to make life choices       -1.111509\nHappiness_Score_Percentile          8.000000\nName: 0, dtype: float64"
     },
     "metadata": {},
     "execution_count": 15
    }
   ],
   "source": [
    "data = pd.read_csv('../normalized_data.csv')\n",
    "data = data[['Social support', 'Log GDP per capita', 'Healthy life expectancy at birth', 'Freedom to make life choices', 'Happiness_Score_Percentile']]\n",
    "data = data.dropna()\n",
    "data.iloc[0]"
   ]
  },
  {
   "cell_type": "markdown",
   "metadata": {},
   "source": [
    "Split into testing and training"
   ]
  },
  {
   "cell_type": "code",
   "execution_count": 16,
   "metadata": {},
   "outputs": [
    {
     "output_type": "stream",
     "name": "stdout",
     "text": "931 train examples\n233 test examples\n"
    }
   ],
   "source": [
    "from sklearn.model_selection import train_test_split\n",
    "train, test = train_test_split(data, test_size=0.2)\n",
    "\n",
    "y_train = train['Happiness_Score_Percentile']\n",
    "x_train = train.drop(['Happiness_Score_Percentile'], axis=1)\n",
    "y_test = test['Happiness_Score_Percentile']\n",
    "x_test = test.drop(['Happiness_Score_Percentile'], axis=1)\n",
    "\n",
    "assert len(x_train) == len(y_train)\n",
    "assert len(x_test) == len(y_test)\n",
    "assert len(x_train.iloc[0]) == len(x_test.iloc[0])\n",
    "print(len(x_train), 'train examples')\n",
    "print(len(x_test), 'test examples')"
   ]
  },
  {
   "cell_type": "markdown",
   "metadata": {},
   "source": [
    "### Models"
   ]
  },
  {
   "cell_type": "markdown",
   "metadata": {},
   "source": [
    "Regular Linear Regression"
   ]
  },
  {
   "cell_type": "code",
   "execution_count": 17,
   "metadata": {},
   "outputs": [
    {
     "output_type": "stream",
     "name": "stdout",
     "text": "0.6705702722746456\nRMS:  1.2243946338832206\nAccuracy:  0.30472103004291845\n"
    }
   ],
   "source": [
    "from sklearn.linear_model import LinearRegression\n",
    "from sklearn.metrics import mean_squared_error, accuracy_score\n",
    "\n",
    "reg = LinearRegression().fit(x_train, y_train)\n",
    "y_pred = reg.predict(x_test)\n",
    "print(reg.score(x_test, y_test))\n",
    "\n",
    "#Find accuracy and error on test dataset\n",
    "print(\"RMS: \", (mean_squared_error(y_test, y_pred))**0.5)\n",
    "print(\"Accuracy: \", accuracy_score(y_test, y_pred.round()))"
   ]
  },
  {
   "cell_type": "markdown",
   "metadata": {},
   "source": [
    "Linear Regression with L1 and L2 Regularization and Cross Validation selection"
   ]
  },
  {
   "cell_type": "code",
   "execution_count": 18,
   "metadata": {},
   "outputs": [
    {
     "output_type": "stream",
     "name": "stdout",
     "text": "0.6708913928280686\nRMS:  1.2237977324633336\nAccuracy:  0.30042918454935624\n"
    }
   ],
   "source": [
    "from sklearn.linear_model import ElasticNetCV\n",
    "\n",
    "regr = ElasticNetCV()\n",
    "regr.fit(x_train, y_train)\n",
    "print(regr.score(x_test, y_test))\n",
    "\n",
    "y_pred = regr.predict(x_test)\n",
    "\n",
    "# print(y_pred)\n",
    "print(\"RMS: \", (mean_squared_error(y_test, y_pred))**0.5)\n",
    "#Find accuracy\n",
    "from sklearn.metrics import accuracy_score\n",
    "print(\"Accuracy: \", accuracy_score(y_test, y_pred.round()))\n",
    "# print(\"Accuracy: \", accuracy_score(y_test, y_pred))\n"
   ]
  },
  {
   "cell_type": "markdown",
   "metadata": {},
   "source": [
    "Ordinal Regression"
   ]
  },
  {
   "cell_type": "code",
   "execution_count": 19,
   "metadata": {},
   "outputs": [
    {
     "output_type": "stream",
     "name": "stdout",
     "text": "Requirement already satisfied: statsmodels in /Users/Gautham/miniconda3/envs/ai_env/lib/python3.7/site-packages (0.13.2)\nRequirement already satisfied: packaging>=21.3 in /Users/Gautham/miniconda3/envs/ai_env/lib/python3.7/site-packages (from statsmodels) (21.3)\nRequirement already satisfied: numpy>=1.17 in /Users/Gautham/miniconda3/envs/ai_env/lib/python3.7/site-packages (from statsmodels) (1.18.0)\nRequirement already satisfied: patsy>=0.5.2 in /Users/Gautham/miniconda3/envs/ai_env/lib/python3.7/site-packages (from statsmodels) (0.5.2)\nRequirement already satisfied: pandas>=0.25 in /Users/Gautham/miniconda3/envs/ai_env/lib/python3.7/site-packages (from statsmodels) (1.3.5)\nRequirement already satisfied: scipy>=1.3 in /Users/Gautham/miniconda3/envs/ai_env/lib/python3.7/site-packages (from statsmodels) (1.7.3)\nRequirement already satisfied: pyparsing!=3.0.5,>=2.0.2 in /Users/Gautham/miniconda3/envs/ai_env/lib/python3.7/site-packages (from packaging>=21.3->statsmodels) (3.0.9)\nRequirement already satisfied: pytz>=2017.3 in /Users/Gautham/miniconda3/envs/ai_env/lib/python3.7/site-packages (from pandas>=0.25->statsmodels) (2022.2.1)\nRequirement already satisfied: python-dateutil>=2.7.3 in /Users/Gautham/miniconda3/envs/ai_env/lib/python3.7/site-packages (from pandas>=0.25->statsmodels) (2.8.2)\nRequirement already satisfied: six in /Users/Gautham/miniconda3/envs/ai_env/lib/python3.7/site-packages (from patsy>=0.5.2->statsmodels) (1.16.0)\n"
    }
   ],
   "source": [
    "! pip install statsmodels"
   ]
  },
  {
   "cell_type": "code",
   "execution_count": 20,
   "metadata": {},
   "outputs": [
    {
     "output_type": "stream",
     "name": "stdout",
     "text": "Optimization terminated successfully.\n         Current function value: 1.538745\n         Iterations: 34\n         Function evaluations: 35\n         Gradient evaluations: 35\n"
    },
    {
     "output_type": "execute_result",
     "data": {
      "text/plain": "<class 'statsmodels.iolib.summary.Summary'>\n\"\"\"\n                                 OrderedModel Results                                 \n======================================================================================\nDep. Variable:     Happiness_Score_Percentile   Log-Likelihood:                -1432.6\nModel:                           OrderedModel   AIC:                             2891.\nMethod:                    Maximum Likelihood   BIC:                             2954.\nDate:                        Wed, 30 Nov 2022                                         \nTime:                                14:41:32                                         \nNo. Observations:                         931                                         \nDf Residuals:                             918                                         \nDf Model:                                  13                                         \n====================================================================================================\n                                       coef    std err          z      P>|z|      [0.025      0.975]\n----------------------------------------------------------------------------------------------------\nSocial support                      -1.0166      0.097    -10.447      0.000      -1.207      -0.826\nLog GDP per capita                  -1.1692      0.130     -9.023      0.000      -1.423      -0.915\nHealthy life expectancy at birth    -0.6049      0.120     -5.060      0.000      -0.839      -0.371\nFreedom to make life choices        -0.8337      0.074    -11.331      0.000      -0.978      -0.690\n0/1                                 -4.8383      0.180    -26.925      0.000      -5.190      -4.486\n1/2                                  0.2572      0.100      2.568      0.010       0.061       0.453\n2/3                                  0.2521      0.086      2.927      0.003       0.083       0.421\n3/4                                  0.4995      0.070      7.175      0.000       0.363       0.636\n4/5                                  0.3678      0.078      4.721      0.000       0.215       0.520\n5/6                                  0.5115      0.076      6.691      0.000       0.362       0.661\n6/7                                  0.3989      0.088      4.515      0.000       0.226       0.572\n7/8                                  0.2956      0.117      2.529      0.011       0.066       0.525\n8/9                                  0.6787      0.156      4.352      0.000       0.373       0.984\n====================================================================================================\n\"\"\"",
      "text/html": "<table class=\"simpletable\">\n<caption>OrderedModel Results</caption>\n<tr>\n  <th>Dep. Variable:</th>    <td>Happiness_Score_Percentile</td> <th>  Log-Likelihood:    </th> <td> -1432.6</td>\n</tr>\n<tr>\n  <th>Model:</th>                   <td>OrderedModel</td>        <th>  AIC:               </th> <td>   2891.</td>\n</tr>\n<tr>\n  <th>Method:</th>               <td>Maximum Likelihood</td>     <th>  BIC:               </th> <td>   2954.</td>\n</tr>\n<tr>\n  <th>Date:</th>                  <td>Wed, 30 Nov 2022</td>      <th>                     </th>     <td> </td>   \n</tr>\n<tr>\n  <th>Time:</th>                      <td>14:41:32</td>          <th>                     </th>     <td> </td>   \n</tr>\n<tr>\n  <th>No. Observations:</th>           <td>   931</td>           <th>                     </th>     <td> </td>   \n</tr>\n<tr>\n  <th>Df Residuals:</th>               <td>   918</td>           <th>                     </th>     <td> </td>   \n</tr>\n<tr>\n  <th>Df Model:</th>                   <td>    13</td>           <th>                     </th>     <td> </td>   \n</tr>\n</table>\n<table class=\"simpletable\">\n<tr>\n                  <td></td>                    <th>coef</th>     <th>std err</th>      <th>z</th>      <th>P>|z|</th>  <th>[0.025</th>    <th>0.975]</th>  \n</tr>\n<tr>\n  <th>Social support</th>                   <td>   -1.0166</td> <td>    0.097</td> <td>  -10.447</td> <td> 0.000</td> <td>   -1.207</td> <td>   -0.826</td>\n</tr>\n<tr>\n  <th>Log GDP per capita</th>               <td>   -1.1692</td> <td>    0.130</td> <td>   -9.023</td> <td> 0.000</td> <td>   -1.423</td> <td>   -0.915</td>\n</tr>\n<tr>\n  <th>Healthy life expectancy at birth</th> <td>   -0.6049</td> <td>    0.120</td> <td>   -5.060</td> <td> 0.000</td> <td>   -0.839</td> <td>   -0.371</td>\n</tr>\n<tr>\n  <th>Freedom to make life choices</th>     <td>   -0.8337</td> <td>    0.074</td> <td>  -11.331</td> <td> 0.000</td> <td>   -0.978</td> <td>   -0.690</td>\n</tr>\n<tr>\n  <th>0/1</th>                              <td>   -4.8383</td> <td>    0.180</td> <td>  -26.925</td> <td> 0.000</td> <td>   -5.190</td> <td>   -4.486</td>\n</tr>\n<tr>\n  <th>1/2</th>                              <td>    0.2572</td> <td>    0.100</td> <td>    2.568</td> <td> 0.010</td> <td>    0.061</td> <td>    0.453</td>\n</tr>\n<tr>\n  <th>2/3</th>                              <td>    0.2521</td> <td>    0.086</td> <td>    2.927</td> <td> 0.003</td> <td>    0.083</td> <td>    0.421</td>\n</tr>\n<tr>\n  <th>3/4</th>                              <td>    0.4995</td> <td>    0.070</td> <td>    7.175</td> <td> 0.000</td> <td>    0.363</td> <td>    0.636</td>\n</tr>\n<tr>\n  <th>4/5</th>                              <td>    0.3678</td> <td>    0.078</td> <td>    4.721</td> <td> 0.000</td> <td>    0.215</td> <td>    0.520</td>\n</tr>\n<tr>\n  <th>5/6</th>                              <td>    0.5115</td> <td>    0.076</td> <td>    6.691</td> <td> 0.000</td> <td>    0.362</td> <td>    0.661</td>\n</tr>\n<tr>\n  <th>6/7</th>                              <td>    0.3989</td> <td>    0.088</td> <td>    4.515</td> <td> 0.000</td> <td>    0.226</td> <td>    0.572</td>\n</tr>\n<tr>\n  <th>7/8</th>                              <td>    0.2956</td> <td>    0.117</td> <td>    2.529</td> <td> 0.011</td> <td>    0.066</td> <td>    0.525</td>\n</tr>\n<tr>\n  <th>8/9</th>                              <td>    0.6787</td> <td>    0.156</td> <td>    4.352</td> <td> 0.000</td> <td>    0.373</td> <td>    0.984</td>\n</tr>\n</table>"
     },
     "metadata": {},
     "execution_count": 20
    }
   ],
   "source": [
    "from statsmodels.miscmodels.ordinal_model import OrderedModel\n",
    "\n",
    "mod_prob = OrderedModel(y_train, x_train, distr='logit')\n",
    "res_prob = mod_prob.fit(method='bfgs')\n",
    "res_prob.summary()"
   ]
  },
  {
   "cell_type": "code",
   "execution_count": 21,
   "metadata": {},
   "outputs": [
    {
     "output_type": "stream",
     "name": "stdout",
     "text": "RMS:  1.3053209034349393\nAccuracy:  0.3562231759656652\n"
    }
   ],
   "source": [
    "y_pred = res_prob.model.predict(res_prob.params, x_test)\n",
    "y_pred = np.argmax(y_pred, axis=1)\n",
    "\n",
    "print(\"RMS: \", (mean_squared_error(y_test, y_pred))**0.5)\n",
    "print(\"Accuracy: \", accuracy_score(y_test, y_pred))"
   ]
  },
  {
   "cell_type": "markdown",
   "metadata": {},
   "source": [
    "Decision Tree"
   ]
  },
  {
   "cell_type": "code",
   "execution_count": 28,
   "metadata": {},
   "outputs": [
    {
     "output_type": "stream",
     "name": "stdout",
     "text": "Depth:  3  Accuracy:  0.4034334763948498\nDepth:  4  Accuracy:  0.3776824034334764\nDepth:  5  Accuracy:  0.41201716738197425\nDepth:  6  Accuracy:  0.4248927038626609\nDepth:  7  Accuracy:  0.44635193133047213\nDepth:  8  Accuracy:  0.43776824034334766\nDepth:  9  Accuracy:  0.4034334763948498\nDepth:  10  Accuracy:  0.40772532188841204\n"
    }
   ],
   "source": [
    "#decision tree and visualization\n",
    "from sklearn.tree import DecisionTreeClassifier\n",
    "from sklearn import tree\n",
    "import graphviz\n",
    "\n",
    "# clf = DecisionTreeClassifier(random_state=0, max_depth=10)\n",
    "# clf = clf.fit(x_train, y_train)\n",
    "# y_pred = clf.predict(x_test)\n",
    "# print(clf.score(x_test, y_test))\n",
    "\n",
    "# #visualize tree\n",
    "# dot_data = tree.export_graphviz(clf, out_file=None)\n",
    "# graph = graphviz.Source(dot_data)\n",
    "# graph.render(\"happiness_depth10\")\n",
    "\n",
    "depths = [3,4,5,6,7,8,9,10]\n",
    "\n",
    "for depth in depths:\n",
    "    clf = DecisionTreeClassifier(random_state=0, max_depth=depth)\n",
    "    clf = clf.fit(x_train, y_train)\n",
    "    y_pred = clf.predict(x_test)\n",
    "    print(\"Depth: \", depth, \" Accuracy: \", clf.score(x_test, y_test))\n",
    "\n",
    "    dot_data = tree.export_graphviz(clf, out_file=None, feature_names=['Social support', 'Log GDP per capita',\n",
    "       'Healthy life expectancy at birth', 'Freedom to make life choices'], filled=True, rotate=True)\n",
    "    graph = graphviz.Source(dot_data)\n",
    "    graph.render(\"tree_visualizations_color/happiness_depth\" + str(depth))\n",
    "\n",
    "    dot_data1 = tree.export_graphviz(clf, out_file=None, feature_names=['Social support', 'Log GDP per capita',\n",
    "       'Healthy life expectancy at birth', 'Freedom to make life choices'], rotate=True)\n",
    "    graph = graphviz.Source(dot_data1)\n",
    "    graph.render(\"tree_visualizations/happiness_depth\" + str(depth))\n",
    "\n"
   ]
  },
  {
   "cell_type": "code",
   "execution_count": 23,
   "metadata": {},
   "outputs": [
    {
     "output_type": "execute_result",
     "data": {
      "text/plain": "Index(['Social support', 'Log GDP per capita',\n       'Healthy life expectancy at birth', 'Freedom to make life choices',\n       'Happiness_Score_Percentile'],\n      dtype='object')"
     },
     "metadata": {},
     "execution_count": 23
    }
   ],
   "source": [
    "data.columns"
   ]
  },
  {
   "cell_type": "code",
   "execution_count": null,
   "metadata": {},
   "outputs": [],
   "source": []
  }
 ],
 "metadata": {
  "kernelspec": {
   "display_name": "Python 3.7.13 64-bit ('ai_env': conda)",
   "language": "python",
   "name": "python371364bitaienvconda4e3431b9d13b485386668a4ac1dbbc34"
  },
  "language_info": {
   "codemirror_mode": {
    "name": "ipython",
    "version": 3
   },
   "file_extension": ".py",
   "mimetype": "text/x-python",
   "name": "python",
   "nbconvert_exporter": "python",
   "pygments_lexer": "ipython3",
   "version": "3.7.13-final"
  },
  "orig_nbformat": 4,
  "vscode": {
   "interpreter": {
    "hash": "a854752b2c7ec1ab6c8068a9b9478d5f81a8b10c0eed72f7ecbfa3d3c92ed59d"
   }
  }
 },
 "nbformat": 4,
 "nbformat_minor": 2
}