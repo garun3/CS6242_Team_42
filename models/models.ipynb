{
 "cells": [
  {
   "cell_type": "markdown",
   "metadata": {},
   "source": [
    "# Models"
   ]
  },
  {
   "cell_type": "markdown",
   "metadata": {},
   "source": [
    "### Data Processing"
   ]
  },
  {
   "cell_type": "code",
   "execution_count": 1,
   "metadata": {},
   "outputs": [],
   "source": [
    "import pandas as pd\n",
    "import numpy as np"
   ]
  },
  {
   "cell_type": "markdown",
   "metadata": {},
   "source": [
    "Choose top 4 features (chosen by PCA Analysis)"
   ]
  },
  {
   "cell_type": "code",
   "execution_count": 2,
   "metadata": {},
   "outputs": [
    {
     "data": {
      "text/plain": [
       "Social support                     -2.888644\n",
       "Log GDP per capita                 -1.565348\n",
       "Healthy life expectancy at birth   -1.697393\n",
       "Freedom to make life choices       -1.111509\n",
       "Happiness_Score_Percentile          8.000000\n",
       "Name: 0, dtype: float64"
      ]
     },
     "execution_count": 2,
     "metadata": {},
     "output_type": "execute_result"
    }
   ],
   "source": [
    "data = pd.read_csv('../normalized_data.csv')\n",
    "data = data[['Social support', 'Log GDP per capita', 'Healthy life expectancy at birth', 'Freedom to make life choices', 'Happiness_Score_Percentile']]\n",
    "data = data.dropna()\n",
    "data.iloc[0]"
   ]
  },
  {
   "cell_type": "markdown",
   "metadata": {},
   "source": [
    "Split into testing and training"
   ]
  },
  {
   "cell_type": "code",
   "execution_count": 3,
   "metadata": {},
   "outputs": [
    {
     "name": "stdout",
     "output_type": "stream",
     "text": [
      "931 train examples\n",
      "233 test examples\n"
     ]
    }
   ],
   "source": [
    "from sklearn.model_selection import train_test_split\n",
    "train, test = train_test_split(data, test_size=0.2)\n",
    "\n",
    "y_train = train['Happiness_Score_Percentile']\n",
    "x_train = train.drop(['Happiness_Score_Percentile'], axis=1)\n",
    "y_test = test['Happiness_Score_Percentile']\n",
    "x_test = test.drop(['Happiness_Score_Percentile'], axis=1)\n",
    "\n",
    "assert len(x_train) == len(y_train)\n",
    "assert len(x_test) == len(y_test)\n",
    "assert len(x_train.iloc[0]) == len(x_test.iloc[0])\n",
    "print(len(x_train), 'train examples')\n",
    "print(len(x_test), 'test examples')"
   ]
  },
  {
   "cell_type": "markdown",
   "metadata": {},
   "source": [
    "### Models"
   ]
  },
  {
   "cell_type": "markdown",
   "metadata": {},
   "source": [
    "Regular Linear Regression"
   ]
  },
  {
   "cell_type": "code",
   "execution_count": 12,
   "metadata": {},
   "outputs": [
    {
     "name": "stdout",
     "output_type": "stream",
     "text": [
      "0.7259120153746494\n",
      "RMS:  1.1625109157881646\n",
      "Accuracy:  0.33476394849785407\n"
     ]
    }
   ],
   "source": [
    "from sklearn.linear_model import LinearRegression\n",
    "from sklearn.metrics import mean_squared_error, accuracy_score\n",
    "\n",
    "reg = LinearRegression().fit(x_train, y_train)\n",
    "y_pred = reg.predict(x_test)\n",
    "print(reg.score(x_test, y_test))\n",
    "\n",
    "#Find accuracy and error on test dataset\n",
    "print(\"RMS: \", (mean_squared_error(y_test, y_pred))**0.5)\n",
    "print(\"Accuracy: \", accuracy_score(y_test, y_pred.round()))"
   ]
  },
  {
   "cell_type": "markdown",
   "metadata": {},
   "source": [
    "Linear Regression with L1 and L2 Regularization and Cross Validation selection"
   ]
  },
  {
   "cell_type": "code",
   "execution_count": 13,
   "metadata": {},
   "outputs": [
    {
     "name": "stdout",
     "output_type": "stream",
     "text": [
      "0.7251769810221109\n",
      "RMS:  1.1640686516154164\n",
      "Accuracy:  0.33047210300429186\n"
     ]
    }
   ],
   "source": [
    "from sklearn.linear_model import ElasticNetCV\n",
    "\n",
    "regr = ElasticNetCV()\n",
    "regr.fit(x_train, y_train)\n",
    "print(regr.score(x_test, y_test))\n",
    "\n",
    "y_pred = regr.predict(x_test)\n",
    "\n",
    "# print(y_pred)\n",
    "print(\"RMS: \", (mean_squared_error(y_test, y_pred))**0.5)\n",
    "#Find accuracy\n",
    "from sklearn.metrics import accuracy_score\n",
    "print(\"Accuracy: \", accuracy_score(y_test, y_pred.round()))\n",
    "# print(\"Accuracy: \", accuracy_score(y_test, y_pred))\n"
   ]
  },
  {
   "cell_type": "markdown",
   "metadata": {},
   "source": [
    "Ordinal Regression"
   ]
  },
  {
   "cell_type": "code",
   "execution_count": 14,
   "metadata": {},
   "outputs": [
    {
     "name": "stdout",
     "output_type": "stream",
     "text": [
      "Requirement already satisfied: statsmodels in c:\\users\\rohit\\anaconda3\\envs\\cs7643-a2\\lib\\site-packages (0.13.5)\n",
      "Requirement already satisfied: scipy>=1.3 in c:\\users\\rohit\\anaconda3\\envs\\cs7643-a2\\lib\\site-packages (from statsmodels) (1.9.3)\n",
      "Requirement already satisfied: packaging>=21.3 in c:\\users\\rohit\\anaconda3\\envs\\cs7643-a2\\lib\\site-packages (from statsmodels) (21.3)\n",
      "Requirement already satisfied: pandas>=0.25 in c:\\users\\rohit\\anaconda3\\envs\\cs7643-a2\\lib\\site-packages (from statsmodels) (1.5.0)\n",
      "Requirement already satisfied: patsy>=0.5.2 in c:\\users\\rohit\\anaconda3\\envs\\cs7643-a2\\lib\\site-packages (from statsmodels) (0.5.3)\n",
      "Requirement already satisfied: numpy>=1.17 in c:\\users\\rohit\\anaconda3\\envs\\cs7643-a2\\lib\\site-packages (from statsmodels) (1.23.3)\n",
      "Requirement already satisfied: pyparsing!=3.0.5,>=2.0.2 in c:\\users\\rohit\\anaconda3\\envs\\cs7643-a2\\lib\\site-packages (from packaging>=21.3->statsmodels) (2.4.7)\n",
      "Requirement already satisfied: python-dateutil>=2.8.1 in c:\\users\\rohit\\anaconda3\\envs\\cs7643-a2\\lib\\site-packages (from pandas>=0.25->statsmodels) (2.8.1)\n",
      "Requirement already satisfied: pytz>=2020.1 in c:\\users\\rohit\\anaconda3\\envs\\cs7643-a2\\lib\\site-packages (from pandas>=0.25->statsmodels) (2022.4)\n",
      "Requirement already satisfied: six in c:\\users\\rohit\\anaconda3\\envs\\cs7643-a2\\lib\\site-packages (from patsy>=0.5.2->statsmodels) (1.15.0)\n"
     ]
    }
   ],
   "source": [
    "! pip install statsmodels"
   ]
  },
  {
   "cell_type": "code",
   "execution_count": 15,
   "metadata": {},
   "outputs": [
    {
     "name": "stdout",
     "output_type": "stream",
     "text": [
      "Optimization terminated successfully.\n",
      "         Current function value: 1.553781\n",
      "         Iterations: 36\n",
      "         Function evaluations: 37\n",
      "         Gradient evaluations: 37\n"
     ]
    },
    {
     "data": {
      "text/html": [
       "<table class=\"simpletable\">\n",
       "<caption>OrderedModel Results</caption>\n",
       "<tr>\n",
       "  <th>Dep. Variable:</th>    <td>Happiness_Score_Percentile</td> <th>  Log-Likelihood:    </th> <td> -1446.6</td>\n",
       "</tr>\n",
       "<tr>\n",
       "  <th>Model:</th>                   <td>OrderedModel</td>        <th>  AIC:               </th> <td>   2919.</td>\n",
       "</tr>\n",
       "<tr>\n",
       "  <th>Method:</th>               <td>Maximum Likelihood</td>     <th>  BIC:               </th> <td>   2982.</td>\n",
       "</tr>\n",
       "<tr>\n",
       "  <th>Date:</th>                  <td>Mon, 28 Nov 2022</td>      <th>                     </th>     <td> </td>   \n",
       "</tr>\n",
       "<tr>\n",
       "  <th>Time:</th>                      <td>20:23:14</td>          <th>                     </th>     <td> </td>   \n",
       "</tr>\n",
       "<tr>\n",
       "  <th>No. Observations:</th>           <td>   931</td>           <th>                     </th>     <td> </td>   \n",
       "</tr>\n",
       "<tr>\n",
       "  <th>Df Residuals:</th>               <td>   918</td>           <th>                     </th>     <td> </td>   \n",
       "</tr>\n",
       "<tr>\n",
       "  <th>Df Model:</th>                   <td>    13</td>           <th>                     </th>     <td> </td>   \n",
       "</tr>\n",
       "</table>\n",
       "<table class=\"simpletable\">\n",
       "<tr>\n",
       "                  <td></td>                    <th>coef</th>     <th>std err</th>      <th>z</th>      <th>P>|z|</th>  <th>[0.025</th>    <th>0.975]</th>  \n",
       "</tr>\n",
       "<tr>\n",
       "  <th>Social support</th>                   <td>   -0.9322</td> <td>    0.096</td> <td>   -9.692</td> <td> 0.000</td> <td>   -1.121</td> <td>   -0.744</td>\n",
       "</tr>\n",
       "<tr>\n",
       "  <th>Log GDP per capita</th>               <td>   -1.1390</td> <td>    0.129</td> <td>   -8.796</td> <td> 0.000</td> <td>   -1.393</td> <td>   -0.885</td>\n",
       "</tr>\n",
       "<tr>\n",
       "  <th>Healthy life expectancy at birth</th> <td>   -0.7138</td> <td>    0.120</td> <td>   -5.933</td> <td> 0.000</td> <td>   -0.950</td> <td>   -0.478</td>\n",
       "</tr>\n",
       "<tr>\n",
       "  <th>Freedom to make life choices</th>     <td>   -0.7454</td> <td>    0.071</td> <td>  -10.549</td> <td> 0.000</td> <td>   -0.884</td> <td>   -0.607</td>\n",
       "</tr>\n",
       "<tr>\n",
       "  <th>0/1</th>                              <td>   -4.7433</td> <td>    0.180</td> <td>  -26.417</td> <td> 0.000</td> <td>   -5.095</td> <td>   -4.391</td>\n",
       "</tr>\n",
       "<tr>\n",
       "  <th>1/2</th>                              <td>    0.2279</td> <td>    0.106</td> <td>    2.155</td> <td> 0.031</td> <td>    0.021</td> <td>    0.435</td>\n",
       "</tr>\n",
       "<tr>\n",
       "  <th>2/3</th>                              <td>    0.2248</td> <td>    0.088</td> <td>    2.541</td> <td> 0.011</td> <td>    0.051</td> <td>    0.398</td>\n",
       "</tr>\n",
       "<tr>\n",
       "  <th>3/4</th>                              <td>    0.4896</td> <td>    0.069</td> <td>    7.112</td> <td> 0.000</td> <td>    0.355</td> <td>    0.624</td>\n",
       "</tr>\n",
       "<tr>\n",
       "  <th>4/5</th>                              <td>    0.3287</td> <td>    0.078</td> <td>    4.217</td> <td> 0.000</td> <td>    0.176</td> <td>    0.481</td>\n",
       "</tr>\n",
       "<tr>\n",
       "  <th>5/6</th>                              <td>    0.4818</td> <td>    0.077</td> <td>    6.289</td> <td> 0.000</td> <td>    0.332</td> <td>    0.632</td>\n",
       "</tr>\n",
       "<tr>\n",
       "  <th>6/7</th>                              <td>    0.4983</td> <td>    0.082</td> <td>    6.052</td> <td> 0.000</td> <td>    0.337</td> <td>    0.660</td>\n",
       "</tr>\n",
       "<tr>\n",
       "  <th>7/8</th>                              <td>    0.1982</td> <td>    0.119</td> <td>    1.665</td> <td> 0.096</td> <td>   -0.035</td> <td>    0.432</td>\n",
       "</tr>\n",
       "<tr>\n",
       "  <th>8/9</th>                              <td>    0.7176</td> <td>    0.148</td> <td>    4.862</td> <td> 0.000</td> <td>    0.428</td> <td>    1.007</td>\n",
       "</tr>\n",
       "</table>"
      ],
      "text/plain": [
       "<class 'statsmodels.iolib.summary.Summary'>\n",
       "\"\"\"\n",
       "                                 OrderedModel Results                                 \n",
       "======================================================================================\n",
       "Dep. Variable:     Happiness_Score_Percentile   Log-Likelihood:                -1446.6\n",
       "Model:                           OrderedModel   AIC:                             2919.\n",
       "Method:                    Maximum Likelihood   BIC:                             2982.\n",
       "Date:                        Mon, 28 Nov 2022                                         \n",
       "Time:                                20:23:14                                         \n",
       "No. Observations:                         931                                         \n",
       "Df Residuals:                             918                                         \n",
       "Df Model:                                  13                                         \n",
       "====================================================================================================\n",
       "                                       coef    std err          z      P>|z|      [0.025      0.975]\n",
       "----------------------------------------------------------------------------------------------------\n",
       "Social support                      -0.9322      0.096     -9.692      0.000      -1.121      -0.744\n",
       "Log GDP per capita                  -1.1390      0.129     -8.796      0.000      -1.393      -0.885\n",
       "Healthy life expectancy at birth    -0.7138      0.120     -5.933      0.000      -0.950      -0.478\n",
       "Freedom to make life choices        -0.7454      0.071    -10.549      0.000      -0.884      -0.607\n",
       "0/1                                 -4.7433      0.180    -26.417      0.000      -5.095      -4.391\n",
       "1/2                                  0.2279      0.106      2.155      0.031       0.021       0.435\n",
       "2/3                                  0.2248      0.088      2.541      0.011       0.051       0.398\n",
       "3/4                                  0.4896      0.069      7.112      0.000       0.355       0.624\n",
       "4/5                                  0.3287      0.078      4.217      0.000       0.176       0.481\n",
       "5/6                                  0.4818      0.077      6.289      0.000       0.332       0.632\n",
       "6/7                                  0.4983      0.082      6.052      0.000       0.337       0.660\n",
       "7/8                                  0.1982      0.119      1.665      0.096      -0.035       0.432\n",
       "8/9                                  0.7176      0.148      4.862      0.000       0.428       1.007\n",
       "====================================================================================================\n",
       "\"\"\""
      ]
     },
     "execution_count": 15,
     "metadata": {},
     "output_type": "execute_result"
    }
   ],
   "source": [
    "from statsmodels.miscmodels.ordinal_model import OrderedModel\n",
    "\n",
    "mod_prob = OrderedModel(y_train, x_train, distr='logit')\n",
    "res_prob = mod_prob.fit(method='bfgs')\n",
    "res_prob.summary()"
   ]
  },
  {
   "cell_type": "code",
   "execution_count": 16,
   "metadata": {},
   "outputs": [
    {
     "name": "stdout",
     "output_type": "stream",
     "text": [
      "RMS:  1.1990697395661971\n",
      "Accuracy:  0.38626609442060084\n"
     ]
    },
    {
     "name": "stderr",
     "output_type": "stream",
     "text": [
      "c:\\Users\\Rohit\\Anaconda3\\envs\\cs7643-a2\\lib\\site-packages\\statsmodels\\miscmodels\\ordinal_model.py:419: FutureWarning: Support for multi-dimensional indexing (e.g. `obj[:, None]`) is deprecated and will be removed in a future version.  Convert to a numpy array before indexing instead.\n",
      "  xb = xb[:, None]\n"
     ]
    }
   ],
   "source": [
    "y_pred = res_prob.model.predict(res_prob.params, x_test)\n",
    "y_pred = np.argmax(y_pred, axis=1)\n",
    "\n",
    "print(\"RMS: \", (mean_squared_error(y_test, y_pred))**0.5)\n",
    "print(\"Accuracy: \", accuracy_score(y_test, y_pred))"
   ]
  },
  {
   "cell_type": "markdown",
   "metadata": {},
   "source": [
    "Decision Tree"
   ]
  },
  {
   "cell_type": "code",
   "execution_count": 21,
   "metadata": {},
   "outputs": [
    {
     "name": "stdout",
     "output_type": "stream",
     "text": [
      "Depth:  3  Accuracy:  0.39914163090128757\n",
      "Depth:  4  Accuracy:  0.40772532188841204\n",
      "Depth:  5  Accuracy:  0.38626609442060084\n",
      "Depth:  6  Accuracy:  0.4334763948497854\n",
      "Depth:  7  Accuracy:  0.41201716738197425\n",
      "Depth:  8  Accuracy:  0.3776824034334764\n",
      "Depth:  9  Accuracy:  0.38626609442060084\n",
      "Depth:  10  Accuracy:  0.4034334763948498\n"
     ]
    }
   ],
   "source": [
    "#decision tree and visualization\n",
    "from sklearn.tree import DecisionTreeClassifier\n",
    "from sklearn import tree\n",
    "import graphviz\n",
    "\n",
    "# clf = DecisionTreeClassifier(random_state=0, max_depth=10)\n",
    "# clf = clf.fit(x_train, y_train)\n",
    "# y_pred = clf.predict(x_test)\n",
    "# print(clf.score(x_test, y_test))\n",
    "\n",
    "# #visualize tree\n",
    "# dot_data = tree.export_graphviz(clf, out_file=None)\n",
    "# graph = graphviz.Source(dot_data)\n",
    "# graph.render(\"happiness_depth10\")\n",
    "\n",
    "depths = [3,4,5,6,7,8,9,10]\n",
    "\n",
    "for depth in depths:\n",
    "    clf = DecisionTreeClassifier(random_state=0, max_depth=depth)\n",
    "    clf = clf.fit(x_train, y_train)\n",
    "    y_pred = clf.predict(x_test)\n",
    "    print(\"Depth: \", depth, \" Accuracy: \", clf.score(x_test, y_test))\n",
    "\n",
    "    dot_data = tree.export_graphviz(clf, out_file=None)\n",
    "    graph = graphviz.Source(dot_data)\n",
    "    graph.render(\"tree_visualizations/happiness_depth\" + str(depth))\n",
    "\n"
   ]
  }
 ],
 "metadata": {
  "kernelspec": {
   "display_name": "Python 3.9.2 ('cs7643-a2')",
   "language": "python",
   "name": "python3"
  },
  "language_info": {
   "codemirror_mode": {
    "name": "ipython",
    "version": 3
   },
   "file_extension": ".py",
   "mimetype": "text/x-python",
   "name": "python",
   "nbconvert_exporter": "python",
   "pygments_lexer": "ipython3",
   "version": "3.9.2"
  },
  "orig_nbformat": 4,
  "vscode": {
   "interpreter": {
    "hash": "a854752b2c7ec1ab6c8068a9b9478d5f81a8b10c0eed72f7ecbfa3d3c92ed59d"
   }
  }
 },
 "nbformat": 4,
 "nbformat_minor": 2
}
