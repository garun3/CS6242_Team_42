{
 "cells": [
  {
   "cell_type": "markdown",
   "metadata": {},
   "source": [
    "## Predict Hapiness Rank using Ordinal Regression"
   ]
  },
  {
   "cell_type": "code",
   "execution_count": 109,
   "metadata": {},
   "outputs": [
    {
     "name": "stdout",
     "output_type": "stream",
     "text": [
      "Requirement already satisfied: pandas in /Users/ryan/Desktop/Development/School/College/CSE_6242/Project/venv/lib/python3.8/site-packages (1.5.2)\n",
      "Requirement already satisfied: python-dateutil>=2.8.1 in /Users/ryan/Desktop/Development/School/College/CSE_6242/Project/venv/lib/python3.8/site-packages (from pandas) (2.8.2)\n",
      "Requirement already satisfied: pytz>=2020.1 in /Users/ryan/Desktop/Development/School/College/CSE_6242/Project/venv/lib/python3.8/site-packages (from pandas) (2022.6)\n",
      "Requirement already satisfied: numpy>=1.20.3 in /Users/ryan/Desktop/Development/School/College/CSE_6242/Project/venv/lib/python3.8/site-packages (from pandas) (1.23.5)\n",
      "Requirement already satisfied: six>=1.5 in /Users/ryan/Desktop/Development/School/College/CSE_6242/Project/venv/lib/python3.8/site-packages (from python-dateutil>=2.8.1->pandas) (1.16.0)\n",
      "Requirement already satisfied: numpy in /Users/ryan/Desktop/Development/School/College/CSE_6242/Project/venv/lib/python3.8/site-packages (1.23.5)\n",
      "Requirement already satisfied: statsmodels in /Users/ryan/Desktop/Development/School/College/CSE_6242/Project/venv/lib/python3.8/site-packages (0.13.5)\n",
      "Requirement already satisfied: scipy>=1.3 in /Users/ryan/Desktop/Development/School/College/CSE_6242/Project/venv/lib/python3.8/site-packages (from statsmodels) (1.9.3)\n",
      "Requirement already satisfied: numpy>=1.17 in /Users/ryan/Desktop/Development/School/College/CSE_6242/Project/venv/lib/python3.8/site-packages (from statsmodels) (1.23.5)\n",
      "Requirement already satisfied: pandas>=0.25 in /Users/ryan/Desktop/Development/School/College/CSE_6242/Project/venv/lib/python3.8/site-packages (from statsmodels) (1.5.2)\n",
      "Requirement already satisfied: patsy>=0.5.2 in /Users/ryan/Desktop/Development/School/College/CSE_6242/Project/venv/lib/python3.8/site-packages (from statsmodels) (0.5.3)\n",
      "Requirement already satisfied: packaging>=21.3 in /Users/ryan/Desktop/Development/School/College/CSE_6242/Project/venv/lib/python3.8/site-packages (from statsmodels) (21.3)\n",
      "Requirement already satisfied: pyparsing!=3.0.5,>=2.0.2 in /Users/ryan/Desktop/Development/School/College/CSE_6242/Project/venv/lib/python3.8/site-packages (from packaging>=21.3->statsmodels) (3.0.9)\n",
      "Requirement already satisfied: pytz>=2020.1 in /Users/ryan/Desktop/Development/School/College/CSE_6242/Project/venv/lib/python3.8/site-packages (from pandas>=0.25->statsmodels) (2022.6)\n",
      "Requirement already satisfied: python-dateutil>=2.8.1 in /Users/ryan/Desktop/Development/School/College/CSE_6242/Project/venv/lib/python3.8/site-packages (from pandas>=0.25->statsmodels) (2.8.2)\n",
      "Requirement already satisfied: six in /Users/ryan/Desktop/Development/School/College/CSE_6242/Project/venv/lib/python3.8/site-packages (from patsy>=0.5.2->statsmodels) (1.16.0)\n",
      "Requirement already satisfied: sklearn in /Users/ryan/Desktop/Development/School/College/CSE_6242/Project/venv/lib/python3.8/site-packages (0.0.post1)\n"
     ]
    }
   ],
   "source": [
    "# Install needed libraries\n",
    "!pip install pandas\n",
    "!pip install numpy\n",
    "!pip install statsmodels\n",
    "!pip install sklearn\n",
    "\n",
    "import pandas as pd\n",
    "import numpy as np\n",
    "from statsmodels.miscmodels.ordinal_model import OrderedModel\n",
    "from sklearn.metrics import mean_squared_error, accuracy_score\n",
    "from sklearn.model_selection import train_test_split"
   ]
  },
  {
   "cell_type": "markdown",
   "metadata": {},
   "source": [
    "### Data Processing"
   ]
  },
  {
   "cell_type": "markdown",
   "metadata": {},
   "source": [
    "#### Select Features"
   ]
  },
  {
   "cell_type": "code",
   "execution_count": 137,
   "metadata": {},
   "outputs": [
    {
     "data": {
      "text/plain": [
       "Log GDP per capita                  -1.565348\n",
       "Social support                      -2.888644\n",
       "Healthy life expectancy at birth    -1.697393\n",
       "Freedom to make life choices        -1.111509\n",
       "Generosity                           0.371831\n",
       "Perceptions of corruption            0.355938\n",
       "Positive affect                     -0.992580\n",
       "Negative affect                      0.034729\n",
       "Confidence in national government    0.080438\n",
       "GDP                                 -0.300283\n",
       "Happiness_Score_Percentile           0.000000\n",
       "Name: 0, dtype: float64"
      ]
     },
     "execution_count": 137,
     "metadata": {},
     "output_type": "execute_result"
    }
   ],
   "source": [
    "data = pd.read_csv('../normalized_data.csv')\n",
    "\n",
    "# Top 4 features from PCA\n",
    "# data = data[['Social support', 'Log GDP per capita', 'Healthy life expectancy at birth', 'Freedom to make life choices', 'Happiness_Score_Percentile']]\n",
    "\n",
    "# Top 7 features from PCA\n",
    "# data = data[['Social support', 'Log GDP per capita', 'Healthy life expectancy at birth', 'Freedom to make life choices', 'Negative affect', 'Perceptions of corruption', 'Positive affect', 'Happiness_Score_Percentile']]\n",
    "\n",
    "# All 10 features\n",
    "data['Country'] = data['Country'].astype('category')\n",
    "data['Country'] = data['Country'].cat.codes\n",
    "data = data.drop(['Percentile Ranges'], axis=1)\n",
    "data = data.drop(['Unnamed: 0'], axis=1)\n",
    "data = data.drop([\"Happiness Score\"], axis=1)\n",
    "data = data.drop([\"Country\"], axis=1)\n",
    "data = data.drop([\"Year\"], axis=1)\n",
    "data = data.drop([\"Freedom_Rating\"], axis=1)\n",
    "data = data.drop([\"Life Expectancy\"], axis=1)\n",
    "\n",
    "# Happiness Score from 1 - 10\n",
    "data['Happiness_Score_Percentile'] = abs(data['Happiness_Score_Percentile'] - 9)\n",
    "\n",
    "# Binary happiness score\n",
    "data['Happiness_Score_Percentile'] = data['Happiness_Score_Percentile'].transform(lambda x: pd.cut(x, bins=2, labels=[0,1]))\n",
    "data = data.dropna()\n",
    "data.iloc[0]"
   ]
  },
  {
   "cell_type": "markdown",
   "metadata": {},
   "source": [
    "#### Split Data into Testing and Training"
   ]
  },
  {
   "cell_type": "code",
   "execution_count": 138,
   "metadata": {
    "scrolled": true
   },
   "outputs": [
    {
     "name": "stdout",
     "output_type": "stream",
     "text": [
      "879 train examples\n",
      "220 test examples\n"
     ]
    }
   ],
   "source": [
    "train, test = train_test_split(data, test_size=0.2)\n",
    "\n",
    "y_train = train['Happiness_Score_Percentile']\n",
    "x_train = train.drop(['Happiness_Score_Percentile'], axis=1)\n",
    "y_test = test['Happiness_Score_Percentile']\n",
    "x_test = test.drop(['Happiness_Score_Percentile'], axis=1)\n",
    "\n",
    "assert len(x_train) == len(y_train)\n",
    "assert len(x_test) == len(y_test)\n",
    "assert len(x_train.iloc[0]) == len(x_test.iloc[0])\n",
    "print(len(x_train), 'train examples')\n",
    "print(len(x_test), 'test examples')"
   ]
  },
  {
   "cell_type": "markdown",
   "metadata": {},
   "source": [
    "### Run Ordinal Regression"
   ]
  },
  {
   "cell_type": "code",
   "execution_count": 139,
   "metadata": {
    "scrolled": true
   },
   "outputs": [
    {
     "name": "stdout",
     "output_type": "stream",
     "text": [
      "Optimization terminated successfully.\n",
      "         Current function value: 0.301491\n",
      "         Iterations: 57\n",
      "         Function evaluations: 58\n",
      "         Gradient evaluations: 58\n"
     ]
    },
    {
     "data": {
      "text/html": [
       "<table class=\"simpletable\">\n",
       "<caption>OrderedModel Results</caption>\n",
       "<tr>\n",
       "  <th>Dep. Variable:</th>    <td>Happiness_Score_Percentile</td> <th>  Log-Likelihood:    </th> <td> -265.01</td>\n",
       "</tr>\n",
       "<tr>\n",
       "  <th>Model:</th>                   <td>OrderedModel</td>        <th>  AIC:               </th> <td>   552.0</td>\n",
       "</tr>\n",
       "<tr>\n",
       "  <th>Method:</th>               <td>Maximum Likelihood</td>     <th>  BIC:               </th> <td>   604.6</td>\n",
       "</tr>\n",
       "<tr>\n",
       "  <th>Date:</th>                  <td>Thu, 01 Dec 2022</td>      <th>                     </th>     <td> </td>   \n",
       "</tr>\n",
       "<tr>\n",
       "  <th>Time:</th>                      <td>14:14:43</td>          <th>                     </th>     <td> </td>   \n",
       "</tr>\n",
       "<tr>\n",
       "  <th>No. Observations:</th>           <td>   879</td>           <th>                     </th>     <td> </td>   \n",
       "</tr>\n",
       "<tr>\n",
       "  <th>Df Residuals:</th>               <td>   868</td>           <th>                     </th>     <td> </td>   \n",
       "</tr>\n",
       "<tr>\n",
       "  <th>Df Model:</th>                   <td>    11</td>           <th>                     </th>     <td> </td>   \n",
       "</tr>\n",
       "</table>\n",
       "<table class=\"simpletable\">\n",
       "<tr>\n",
       "                  <td></td>                     <th>coef</th>     <th>std err</th>      <th>z</th>      <th>P>|z|</th>  <th>[0.025</th>    <th>0.975]</th>  \n",
       "</tr>\n",
       "<tr>\n",
       "  <th>Log GDP per capita</th>                <td>    0.5068</td> <td>    0.227</td> <td>    2.233</td> <td> 0.026</td> <td>    0.062</td> <td>    0.952</td>\n",
       "</tr>\n",
       "<tr>\n",
       "  <th>Social support</th>                    <td>    0.8989</td> <td>    0.179</td> <td>    5.010</td> <td> 0.000</td> <td>    0.547</td> <td>    1.251</td>\n",
       "</tr>\n",
       "<tr>\n",
       "  <th>Healthy life expectancy at birth</th>  <td>    1.0878</td> <td>    0.208</td> <td>    5.242</td> <td> 0.000</td> <td>    0.681</td> <td>    1.495</td>\n",
       "</tr>\n",
       "<tr>\n",
       "  <th>Freedom to make life choices</th>      <td>    0.7271</td> <td>    0.178</td> <td>    4.082</td> <td> 0.000</td> <td>    0.378</td> <td>    1.076</td>\n",
       "</tr>\n",
       "<tr>\n",
       "  <th>Generosity</th>                        <td>    0.0047</td> <td>    0.114</td> <td>    0.041</td> <td> 0.967</td> <td>   -0.218</td> <td>    0.228</td>\n",
       "</tr>\n",
       "<tr>\n",
       "  <th>Perceptions of corruption</th>         <td>   -0.5829</td> <td>    0.201</td> <td>   -2.898</td> <td> 0.004</td> <td>   -0.977</td> <td>   -0.189</td>\n",
       "</tr>\n",
       "<tr>\n",
       "  <th>Positive affect</th>                   <td>    0.4854</td> <td>    0.138</td> <td>    3.523</td> <td> 0.000</td> <td>    0.215</td> <td>    0.755</td>\n",
       "</tr>\n",
       "<tr>\n",
       "  <th>Negative affect</th>                   <td>   -0.1368</td> <td>    0.131</td> <td>   -1.044</td> <td> 0.297</td> <td>   -0.394</td> <td>    0.120</td>\n",
       "</tr>\n",
       "<tr>\n",
       "  <th>Confidence in national government</th> <td>   -0.6675</td> <td>    0.170</td> <td>   -3.931</td> <td> 0.000</td> <td>   -1.000</td> <td>   -0.335</td>\n",
       "</tr>\n",
       "<tr>\n",
       "  <th>GDP</th>                               <td>    1.3808</td> <td>    0.567</td> <td>    2.436</td> <td> 0.015</td> <td>    0.270</td> <td>    2.492</td>\n",
       "</tr>\n",
       "<tr>\n",
       "  <th>0/1</th>                               <td>   -1.0544</td> <td>    0.179</td> <td>   -5.906</td> <td> 0.000</td> <td>   -1.404</td> <td>   -0.705</td>\n",
       "</tr>\n",
       "</table>"
      ],
      "text/plain": [
       "<class 'statsmodels.iolib.summary.Summary'>\n",
       "\"\"\"\n",
       "                                 OrderedModel Results                                 \n",
       "======================================================================================\n",
       "Dep. Variable:     Happiness_Score_Percentile   Log-Likelihood:                -265.01\n",
       "Model:                           OrderedModel   AIC:                             552.0\n",
       "Method:                    Maximum Likelihood   BIC:                             604.6\n",
       "Date:                        Thu, 01 Dec 2022                                         \n",
       "Time:                                14:14:43                                         \n",
       "No. Observations:                         879                                         \n",
       "Df Residuals:                             868                                         \n",
       "Df Model:                                  11                                         \n",
       "=====================================================================================================\n",
       "                                        coef    std err          z      P>|z|      [0.025      0.975]\n",
       "-----------------------------------------------------------------------------------------------------\n",
       "Log GDP per capita                    0.5068      0.227      2.233      0.026       0.062       0.952\n",
       "Social support                        0.8989      0.179      5.010      0.000       0.547       1.251\n",
       "Healthy life expectancy at birth      1.0878      0.208      5.242      0.000       0.681       1.495\n",
       "Freedom to make life choices          0.7271      0.178      4.082      0.000       0.378       1.076\n",
       "Generosity                            0.0047      0.114      0.041      0.967      -0.218       0.228\n",
       "Perceptions of corruption            -0.5829      0.201     -2.898      0.004      -0.977      -0.189\n",
       "Positive affect                       0.4854      0.138      3.523      0.000       0.215       0.755\n",
       "Negative affect                      -0.1368      0.131     -1.044      0.297      -0.394       0.120\n",
       "Confidence in national government    -0.6675      0.170     -3.931      0.000      -1.000      -0.335\n",
       "GDP                                   1.3808      0.567      2.436      0.015       0.270       2.492\n",
       "0/1                                  -1.0544      0.179     -5.906      0.000      -1.404      -0.705\n",
       "=====================================================================================================\n",
       "\"\"\""
      ]
     },
     "execution_count": 139,
     "metadata": {},
     "output_type": "execute_result"
    }
   ],
   "source": [
    "mod_prob = OrderedModel(y_train, x_train, distr='logit')\n",
    "res_prob = mod_prob.fit(method='bfgs')\n",
    "res_prob.summary()"
   ]
  },
  {
   "cell_type": "code",
   "execution_count": 140,
   "metadata": {},
   "outputs": [
    {
     "name": "stdout",
     "output_type": "stream",
     "text": [
      "RMS:  0.30151134457776363\n",
      "Accuracy:  0.9090909090909091\n"
     ]
    },
    {
     "name": "stderr",
     "output_type": "stream",
     "text": [
      "/Users/ryan/Desktop/Development/School/College/CSE_6242/Project/venv/lib/python3.8/site-packages/statsmodels/miscmodels/ordinal_model.py:419: FutureWarning: Support for multi-dimensional indexing (e.g. `obj[:, None]`) is deprecated and will be removed in a future version.  Convert to a numpy array before indexing instead.\n",
      "  xb = xb[:, None]\n"
     ]
    }
   ],
   "source": [
    "y_pred = res_prob.model.predict(res_prob.params, x_test)\n",
    "y_pred = np.argmax(y_pred, axis=1)\n",
    "\n",
    "print(\"RMS: \", (mean_squared_error(y_test, y_pred))**0.5)\n",
    "print(\"Accuracy: \", accuracy_score(y_test, y_pred))"
   ]
  },
  {
   "cell_type": "code",
   "execution_count": null,
   "metadata": {},
   "outputs": [],
   "source": []
  }
 ],
 "metadata": {
  "kernelspec": {
   "display_name": "Python 3 (ipykernel)",
   "language": "python",
   "name": "python3"
  },
  "language_info": {
   "codemirror_mode": {
    "name": "ipython",
    "version": 3
   },
   "file_extension": ".py",
   "mimetype": "text/x-python",
   "name": "python",
   "nbconvert_exporter": "python",
   "pygments_lexer": "ipython3",
   "version": "3.8.15"
  },
  "vscode": {
   "interpreter": {
    "hash": "aee8b7b246df8f9039afb4144a1f6fd8d2ca17a180786b69acc140d282b71a49"
   }
  }
 },
 "nbformat": 4,
 "nbformat_minor": 2
}
