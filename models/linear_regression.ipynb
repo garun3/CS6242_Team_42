{
 "cells": [
  {
   "cell_type": "code",
   "execution_count": 3,
   "metadata": {},
   "outputs": [
    {
     "name": "stdout",
     "output_type": "stream",
     "text": [
      "Collecting scikit-learn\n",
      "  Downloading scikit_learn-1.1.3-cp39-cp39-win_amd64.whl (7.6 MB)\n",
      "Collecting joblib>=1.0.0\n",
      "  Using cached joblib-1.2.0-py3-none-any.whl (297 kB)\n",
      "Requirement already satisfied: numpy>=1.17.3 in c:\\users\\rohit\\anaconda3\\envs\\cs7643-a2\\lib\\site-packages (from scikit-learn) (1.23.3)\n",
      "Collecting scipy>=1.3.2\n",
      "  Using cached scipy-1.9.3-cp39-cp39-win_amd64.whl (40.2 MB)\n",
      "Collecting threadpoolctl>=2.0.0\n",
      "  Using cached threadpoolctl-3.1.0-py3-none-any.whl (14 kB)\n",
      "Installing collected packages: threadpoolctl, scipy, joblib, scikit-learn\n",
      "Successfully installed joblib-1.2.0 scikit-learn-1.1.3 scipy-1.9.3 threadpoolctl-3.1.0\n"
     ]
    }
   ],
   "source": [
    "! pip install -U scikit-learn"
   ]
  },
  {
   "cell_type": "code",
   "execution_count": 1,
   "metadata": {},
   "outputs": [],
   "source": [
    "from sklearn.linear_model import ElasticNetCV #Linear regression with regularization, cross fold validation\n",
    "from sklearn.linear_model import LinearRegression #Linear regression\n",
    "import pandas as pd"
   ]
  },
  {
   "cell_type": "code",
   "execution_count": 17,
   "metadata": {},
   "outputs": [
    {
     "name": "stdout",
     "output_type": "stream",
     "text": [
      "Social support                      0.748675\n",
      "Log GDP per capita                  0.426987\n",
      "Healthy life expectancy at birth    0.934696\n",
      "Freedom to make life choices        1.096601\n",
      "Happiness_Score_Percentile          1.000000\n",
      "Name: 250, dtype: float64\n"
     ]
    }
   ],
   "source": [
    "# Convert country to country code\n",
    "data = pd.read_csv('../normalized_data.csv')\n",
    "# data['Country'] = data['Country'].astype('category')\n",
    "# data['Country'] = data['Country'].cat.codes\n",
    "# Drop NaN values\n",
    "# print(data.iloc[0])\n",
    "data = data[['Social support', 'Log GDP per capita', 'Healthy life expectancy at birth', 'Freedom to make life choices', 'Happiness_Score_Percentile']]\n",
    "\n",
    "data = data.dropna()\n",
    "\n",
    "# data.drop(['Country'], axis=1, inplace=True)\n",
    "# data.drop(['Year'], axis=1, inplace=True)\n",
    "# data.drop(['Happiness Score'], axis=1, inplace=True)\n",
    "# data.drop(['Percentile Ranges'], axis=1, inplace=True)\n",
    "print(data.iloc[250])"
   ]
  },
  {
   "cell_type": "code",
   "execution_count": 18,
   "metadata": {},
   "outputs": [
    {
     "name": "stdout",
     "output_type": "stream",
     "text": [
      "931 train examples\n",
      "233 test examples\n",
      "Social support                      0.208633\n",
      "Log GDP per capita                 -1.055460\n",
      "Healthy life expectancy at birth   -0.439945\n",
      "Freedom to make life choices        0.581888\n",
      "Name: 745, dtype: float64\n",
      "5\n"
     ]
    }
   ],
   "source": [
    "# Split data into train, test\n",
    "from sklearn.model_selection import train_test_split\n",
    "train, test = train_test_split(data, test_size=0.2)\n",
    "\n",
    "#split datasets into x and y\n",
    "y_train = train['Happiness_Score_Percentile']\n",
    "x_train = train.drop(['Happiness_Score_Percentile'], axis=1)\n",
    "y_test = test['Happiness_Score_Percentile']\n",
    "x_test = test.drop(['Happiness_Score_Percentile'], axis=1)\n",
    "\n",
    "assert len(x_train) == len(y_train)\n",
    "assert len(x_test) == len(y_test)\n",
    "assert len(x_train.iloc[0]) == len(x_test.iloc[0])\n",
    "print(len(x_train), 'train examples')\n",
    "print(len(x_test), 'test examples')\n",
    "print(x_train.iloc[0])\n",
    "print(y_train.iloc[0])"
   ]
  },
  {
   "cell_type": "code",
   "execution_count": 19,
   "metadata": {},
   "outputs": [
    {
     "name": "stdout",
     "output_type": "stream",
     "text": [
      "0.7124847009020588\n",
      "RMS:  2.118613781660754\n",
      "Accuracy:  0.31759656652360513\n"
     ]
    }
   ],
   "source": [
    "#Find accuracy and error on test dataset\n",
    "from sklearn.metrics import mean_squared_error\n",
    "\n",
    "regr = ElasticNetCV(cv=5, random_state=0)\n",
    "regr.fit(x_train, y_train)\n",
    "print(regr.score(x_test, y_test))\n",
    "\n",
    "y_pred = regr.predict(x_test)\n",
    "\n",
    "# print(y_pred)\n",
    "print(\"RMS: \", (mean_squared_error(y_test, y_pred))**2)\n",
    "#Find accuracy\n",
    "from sklearn.metrics import accuracy_score\n",
    "print(\"Accuracy: \", accuracy_score(y_test, y_pred.round()))\n",
    "# print(\"Accuracy: \", accuracy_score(y_test, y_pred))\n"
   ]
  },
  {
   "cell_type": "code",
   "execution_count": 20,
   "metadata": {},
   "outputs": [
    {
     "name": "stdout",
     "output_type": "stream",
     "text": [
      "0.7125587095269714\n",
      "RMS:  2.1175232274329168\n",
      "Accuracy:  0.31759656652360513\n"
     ]
    }
   ],
   "source": [
    "# Standard Linear regression\n",
    "reg = LinearRegression().fit(x_train, y_train)\n",
    "y_pred = reg.predict(x_test)\n",
    "print(reg.score(x_test, y_test))\n",
    "\n",
    "#Find accuracy and error on test dataset\n",
    "print(\"RMS: \", (mean_squared_error(y_test, y_pred))**2)\n",
    "print(\"Accuracy: \", accuracy_score(y_test, y_pred.round()))"
   ]
  },
  {
   "cell_type": "code",
   "execution_count": 23,
   "metadata": {},
   "outputs": [
    {
     "name": "stderr",
     "output_type": "stream",
     "text": [
      " 12%|█▎        | 1/8 [00:00<00:01,  4.50it/s]"
     ]
    },
    {
     "name": "stdout",
     "output_type": "stream",
     "text": [
      "Depth:  3  Accuracy:  0.3776824034334764\n",
      "Depth:  4  Accuracy:  0.38626609442060084\n"
     ]
    },
    {
     "name": "stderr",
     "output_type": "stream",
     "text": [
      " 25%|██▌       | 2/8 [00:00<00:01,  4.50it/s]"
     ]
    },
    {
     "name": "stdout",
     "output_type": "stream",
     "text": [
      "Depth:  5  Accuracy:  0.34334763948497854\n"
     ]
    },
    {
     "name": "stderr",
     "output_type": "stream",
     "text": [
      " 38%|███▊      | 3/8 [00:00<00:01,  3.99it/s]"
     ]
    },
    {
     "name": "stdout",
     "output_type": "stream",
     "text": [
      "Depth:  6  Accuracy:  0.3605150214592275\n"
     ]
    },
    {
     "name": "stderr",
     "output_type": "stream",
     "text": [
      " 50%|█████     | 4/8 [00:01<00:01,  2.85it/s]"
     ]
    },
    {
     "name": "stdout",
     "output_type": "stream",
     "text": [
      "Depth:  7  Accuracy:  0.38626609442060084\n"
     ]
    },
    {
     "name": "stderr",
     "output_type": "stream",
     "text": [
      " 62%|██████▎   | 5/8 [00:01<00:01,  2.79it/s]"
     ]
    },
    {
     "name": "stdout",
     "output_type": "stream",
     "text": [
      "Depth:  8  Accuracy:  0.40772532188841204\n"
     ]
    },
    {
     "name": "stderr",
     "output_type": "stream",
     "text": [
      " 75%|███████▌  | 6/8 [00:02<00:00,  2.47it/s]"
     ]
    },
    {
     "name": "stdout",
     "output_type": "stream",
     "text": [
      "Depth:  9  Accuracy:  0.4034334763948498\n"
     ]
    },
    {
     "name": "stderr",
     "output_type": "stream",
     "text": [
      " 88%|████████▊ | 7/8 [00:02<00:00,  2.14it/s]"
     ]
    },
    {
     "name": "stdout",
     "output_type": "stream",
     "text": [
      "Depth:  10  Accuracy:  0.4206008583690987\n"
     ]
    },
    {
     "name": "stderr",
     "output_type": "stream",
     "text": [
      "100%|██████████| 8/8 [00:03<00:00,  2.43it/s]\n"
     ]
    }
   ],
   "source": [
    "#decision tree and visualization\n",
    "from sklearn.tree import DecisionTreeClassifier\n",
    "from sklearn import tree\n",
    "from sklearn.tree import export_graphviz\n",
    "import graphviz\n",
    "from tqdm import tqdm\n",
    "\n",
    "# clf = DecisionTreeClassifier(random_state=0, max_depth=10)\n",
    "# clf = clf.fit(x_train, y_train)\n",
    "# y_pred = clf.predict(x_test)\n",
    "# print(clf.score(x_test, y_test))\n",
    "\n",
    "# #visualize tree\n",
    "# dot_data = tree.export_graphviz(clf, out_file=None)\n",
    "# graph = graphviz.Source(dot_data)\n",
    "# graph.render(\"happiness_depth10\")\n",
    "\n",
    "depths = [3,4,5,6,7,8,9,10]\n",
    "\n",
    "for depth in tqdm(depths):\n",
    "    clf = DecisionTreeClassifier(random_state=0, max_depth=depth)\n",
    "    clf = clf.fit(x_train, y_train)\n",
    "    y_pred = clf.predict(x_test)\n",
    "    print(\"Depth: \", depth, \" Accuracy: \", clf.score(x_test, y_test))\n",
    "\n",
    "    dot_data = tree.export_graphviz(clf, out_file=None)\n",
    "    graph = graphviz.Source(dot_data)\n",
    "    graph.render(\"tree_visualizations/happiness_depth\" + str(depth))\n",
    "\n"
   ]
  }
 ],
 "metadata": {
  "kernelspec": {
   "display_name": "Python 3.9.2 ('cs7643-a2')",
   "language": "python",
   "name": "python3"
  },
  "language_info": {
   "codemirror_mode": {
    "name": "ipython",
    "version": 3
   },
   "file_extension": ".py",
   "mimetype": "text/x-python",
   "name": "python",
   "nbconvert_exporter": "python",
   "pygments_lexer": "ipython3",
   "version": "3.9.2"
  },
  "orig_nbformat": 4,
  "vscode": {
   "interpreter": {
    "hash": "a854752b2c7ec1ab6c8068a9b9478d5f81a8b10c0eed72f7ecbfa3d3c92ed59d"
   }
  }
 },
 "nbformat": 4,
 "nbformat_minor": 2
}
