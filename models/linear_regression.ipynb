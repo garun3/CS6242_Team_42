{
 "cells": [
  {
   "cell_type": "markdown",
   "metadata": {},
   "source": [
    "# Models"
   ]
  },
  {
   "cell_type": "markdown",
   "metadata": {},
   "source": [
    "### Data Processing"
   ]
  },
  {
   "cell_type": "code",
   "execution_count": 1,
   "metadata": {},
   "outputs": [],
   "source": [
    "import pandas as pd\n",
    "import numpy as np"
   ]
  },
  {
   "cell_type": "markdown",
   "metadata": {},
   "source": [
    "Choose top 4 features (chosen by PCA Analysis)"
   ]
  },
  {
   "cell_type": "code",
   "execution_count": 11,
   "metadata": {},
   "outputs": [
    {
     "data": {
      "text/plain": [
       "Social support                     -2.888644\n",
       "Log GDP per capita                 -1.565348\n",
       "Healthy life expectancy at birth   -1.697393\n",
       "Freedom to make life choices       -1.111509\n",
       "Happiness_Score_Percentile          8.000000\n",
       "Name: 0, dtype: float64"
      ]
     },
     "execution_count": 11,
     "metadata": {},
     "output_type": "execute_result"
    }
   ],
   "source": [
    "data = pd.read_csv('../normalized_data.csv')\n",
    "data = data[['Social support', 'Log GDP per capita', 'Healthy life expectancy at birth', 'Freedom to make life choices', 'Happiness_Score_Percentile']]\n",
    "data = data.dropna()\n",
    "data.iloc[0]"
   ]
  },
  {
   "cell_type": "markdown",
   "metadata": {},
   "source": [
    "Split into testing and training"
   ]
  },
  {
   "cell_type": "code",
   "execution_count": 12,
   "metadata": {},
   "outputs": [
    {
     "name": "stdout",
     "output_type": "stream",
     "text": [
      "931 train examples\n",
      "233 test examples\n"
     ]
    }
   ],
   "source": [
    "from sklearn.model_selection import train_test_split\n",
    "train, test = train_test_split(data, test_size=0.2)\n",
    "\n",
    "y_train = train['Happiness_Score_Percentile']\n",
    "x_train = train.drop(['Happiness_Score_Percentile'], axis=1)\n",
    "y_test = test['Happiness_Score_Percentile']\n",
    "x_test = test.drop(['Happiness_Score_Percentile'], axis=1)\n",
    "\n",
    "assert len(x_train) == len(y_train)\n",
    "assert len(x_test) == len(y_test)\n",
    "assert len(x_train.iloc[0]) == len(x_test.iloc[0])\n",
    "print(len(x_train), 'train examples')\n",
    "print(len(x_test), 'test examples')"
   ]
  },
  {
   "cell_type": "markdown",
   "metadata": {},
   "source": [
    "### Models"
   ]
  },
  {
   "cell_type": "markdown",
   "metadata": {},
   "source": [
    "Regular Linear Regression"
   ]
  },
  {
   "cell_type": "code",
   "execution_count": 15,
   "metadata": {},
   "outputs": [
    {
     "name": "stdout",
     "output_type": "stream",
     "text": [
      "0.7130553702399715\n",
      "RMS:  1.8238466603760444\n",
      "Accuracy:  0.33476394849785407\n"
     ]
    }
   ],
   "source": [
    "from sklearn.linear_model import LinearRegression\n",
    "from sklearn.metrics import mean_squared_error, accuracy_score\n",
    "\n",
    "reg = LinearRegression().fit(x_train, y_train)\n",
    "y_pred = reg.predict(x_test)\n",
    "print(reg.score(x_test, y_test))\n",
    "\n",
    "#Find accuracy and error on test dataset\n",
    "print(\"RMS: \", (mean_squared_error(y_test, y_pred))**2)\n",
    "print(\"Accuracy: \", accuracy_score(y_test, y_pred.round()))"
   ]
  },
  {
   "cell_type": "markdown",
   "metadata": {},
   "source": [
    "Linear Regression with L1 and L2 Regularization and Cross Validation selection"
   ]
  },
  {
   "cell_type": "code",
   "execution_count": 16,
   "metadata": {},
   "outputs": [
    {
     "name": "stdout",
     "output_type": "stream",
     "text": [
      "0.7125884552912709\n",
      "RMS:  1.8297869988663908\n",
      "Accuracy:  0.33476394849785407\n"
     ]
    }
   ],
   "source": [
    "from sklearn.linear_model import ElasticNetCV\n",
    "\n",
    "regr = ElasticNetCV(cv=5, random_state=0)\n",
    "regr.fit(x_train, y_train)\n",
    "print(regr.score(x_test, y_test))\n",
    "\n",
    "y_pred = regr.predict(x_test)\n",
    "\n",
    "# print(y_pred)\n",
    "print(\"RMS: \", (mean_squared_error(y_test, y_pred))**2)\n",
    "#Find accuracy\n",
    "from sklearn.metrics import accuracy_score\n",
    "print(\"Accuracy: \", accuracy_score(y_test, y_pred.round()))\n",
    "# print(\"Accuracy: \", accuracy_score(y_test, y_pred))\n"
   ]
  },
  {
   "cell_type": "markdown",
   "metadata": {},
   "source": [
    "Ordinal Regression"
   ]
  },
  {
   "cell_type": "code",
   "execution_count": 17,
   "metadata": {},
   "outputs": [
    {
     "name": "stdout",
     "output_type": "stream",
     "text": [
      "Requirement already satisfied: statsmodels in c:\\users\\rohit\\anaconda3\\envs\\cs7643-a2\\lib\\site-packages (0.13.5)\n",
      "Requirement already satisfied: numpy>=1.17 in c:\\users\\rohit\\anaconda3\\envs\\cs7643-a2\\lib\\site-packages (from statsmodels) (1.23.3)\n",
      "Requirement already satisfied: packaging>=21.3 in c:\\users\\rohit\\anaconda3\\envs\\cs7643-a2\\lib\\site-packages (from statsmodels) (21.3)\n",
      "Requirement already satisfied: pandas>=0.25 in c:\\users\\rohit\\anaconda3\\envs\\cs7643-a2\\lib\\site-packages (from statsmodels) (1.5.0)\n",
      "Requirement already satisfied: patsy>=0.5.2 in c:\\users\\rohit\\anaconda3\\envs\\cs7643-a2\\lib\\site-packages (from statsmodels) (0.5.3)\n",
      "Requirement already satisfied: scipy>=1.3 in c:\\users\\rohit\\anaconda3\\envs\\cs7643-a2\\lib\\site-packages (from statsmodels) (1.9.3)\n",
      "Requirement already satisfied: pyparsing!=3.0.5,>=2.0.2 in c:\\users\\rohit\\anaconda3\\envs\\cs7643-a2\\lib\\site-packages (from packaging>=21.3->statsmodels) (2.4.7)\n",
      "Requirement already satisfied: pytz>=2020.1 in c:\\users\\rohit\\anaconda3\\envs\\cs7643-a2\\lib\\site-packages (from pandas>=0.25->statsmodels) (2022.4)\n",
      "Requirement already satisfied: python-dateutil>=2.8.1 in c:\\users\\rohit\\anaconda3\\envs\\cs7643-a2\\lib\\site-packages (from pandas>=0.25->statsmodels) (2.8.1)\n",
      "Requirement already satisfied: six in c:\\users\\rohit\\anaconda3\\envs\\cs7643-a2\\lib\\site-packages (from patsy>=0.5.2->statsmodels) (1.15.0)\n"
     ]
    }
   ],
   "source": [
    "! pip install statsmodels"
   ]
  },
  {
   "cell_type": "code",
   "execution_count": 18,
   "metadata": {},
   "outputs": [
    {
     "name": "stdout",
     "output_type": "stream",
     "text": [
      "Optimization terminated successfully.\n",
      "         Current function value: 1.551978\n",
      "         Iterations: 33\n",
      "         Function evaluations: 34\n",
      "         Gradient evaluations: 34\n"
     ]
    },
    {
     "data": {
      "text/html": [
       "<table class=\"simpletable\">\n",
       "<caption>OrderedModel Results</caption>\n",
       "<tr>\n",
       "  <th>Dep. Variable:</th>    <td>Happiness_Score_Percentile</td> <th>  Log-Likelihood:    </th> <td> -1444.9</td>\n",
       "</tr>\n",
       "<tr>\n",
       "  <th>Model:</th>                   <td>OrderedModel</td>        <th>  AIC:               </th> <td>   2916.</td>\n",
       "</tr>\n",
       "<tr>\n",
       "  <th>Method:</th>               <td>Maximum Likelihood</td>     <th>  BIC:               </th> <td>   2979.</td>\n",
       "</tr>\n",
       "<tr>\n",
       "  <th>Date:</th>                  <td>Mon, 28 Nov 2022</td>      <th>                     </th>     <td> </td>   \n",
       "</tr>\n",
       "<tr>\n",
       "  <th>Time:</th>                      <td>19:42:24</td>          <th>                     </th>     <td> </td>   \n",
       "</tr>\n",
       "<tr>\n",
       "  <th>No. Observations:</th>           <td>   931</td>           <th>                     </th>     <td> </td>   \n",
       "</tr>\n",
       "<tr>\n",
       "  <th>Df Residuals:</th>               <td>   918</td>           <th>                     </th>     <td> </td>   \n",
       "</tr>\n",
       "<tr>\n",
       "  <th>Df Model:</th>                   <td>    13</td>           <th>                     </th>     <td> </td>   \n",
       "</tr>\n",
       "</table>\n",
       "<table class=\"simpletable\">\n",
       "<tr>\n",
       "                  <td></td>                    <th>coef</th>     <th>std err</th>      <th>z</th>      <th>P>|z|</th>  <th>[0.025</th>    <th>0.975]</th>  \n",
       "</tr>\n",
       "<tr>\n",
       "  <th>Social support</th>                   <td>   -0.9198</td> <td>    0.096</td> <td>   -9.579</td> <td> 0.000</td> <td>   -1.108</td> <td>   -0.732</td>\n",
       "</tr>\n",
       "<tr>\n",
       "  <th>Log GDP per capita</th>               <td>   -1.1509</td> <td>    0.127</td> <td>   -9.036</td> <td> 0.000</td> <td>   -1.401</td> <td>   -0.901</td>\n",
       "</tr>\n",
       "<tr>\n",
       "  <th>Healthy life expectancy at birth</th> <td>   -0.6163</td> <td>    0.120</td> <td>   -5.153</td> <td> 0.000</td> <td>   -0.851</td> <td>   -0.382</td>\n",
       "</tr>\n",
       "<tr>\n",
       "  <th>Freedom to make life choices</th>     <td>   -0.8348</td> <td>    0.073</td> <td>  -11.446</td> <td> 0.000</td> <td>   -0.978</td> <td>   -0.692</td>\n",
       "</tr>\n",
       "<tr>\n",
       "  <th>0/1</th>                              <td>   -4.7459</td> <td>    0.178</td> <td>  -26.673</td> <td> 0.000</td> <td>   -5.095</td> <td>   -4.397</td>\n",
       "</tr>\n",
       "<tr>\n",
       "  <th>1/2</th>                              <td>    0.2824</td> <td>    0.099</td> <td>    2.841</td> <td> 0.005</td> <td>    0.088</td> <td>    0.477</td>\n",
       "</tr>\n",
       "<tr>\n",
       "  <th>2/3</th>                              <td>    0.2248</td> <td>    0.087</td> <td>    2.579</td> <td> 0.010</td> <td>    0.054</td> <td>    0.396</td>\n",
       "</tr>\n",
       "<tr>\n",
       "  <th>3/4</th>                              <td>    0.4538</td> <td>    0.071</td> <td>    6.411</td> <td> 0.000</td> <td>    0.315</td> <td>    0.592</td>\n",
       "</tr>\n",
       "<tr>\n",
       "  <th>4/5</th>                              <td>    0.2964</td> <td>    0.080</td> <td>    3.698</td> <td> 0.000</td> <td>    0.139</td> <td>    0.453</td>\n",
       "</tr>\n",
       "<tr>\n",
       "  <th>5/6</th>                              <td>    0.5030</td> <td>    0.076</td> <td>    6.623</td> <td> 0.000</td> <td>    0.354</td> <td>    0.652</td>\n",
       "</tr>\n",
       "<tr>\n",
       "  <th>6/7</th>                              <td>    0.4748</td> <td>    0.083</td> <td>    5.718</td> <td> 0.000</td> <td>    0.312</td> <td>    0.638</td>\n",
       "</tr>\n",
       "<tr>\n",
       "  <th>7/8</th>                              <td>    0.2867</td> <td>    0.116</td> <td>    2.473</td> <td> 0.013</td> <td>    0.059</td> <td>    0.514</td>\n",
       "</tr>\n",
       "<tr>\n",
       "  <th>8/9</th>                              <td>    0.7849</td> <td>    0.156</td> <td>    5.019</td> <td> 0.000</td> <td>    0.478</td> <td>    1.091</td>\n",
       "</tr>\n",
       "</table>"
      ],
      "text/plain": [
       "<class 'statsmodels.iolib.summary.Summary'>\n",
       "\"\"\"\n",
       "                                 OrderedModel Results                                 \n",
       "======================================================================================\n",
       "Dep. Variable:     Happiness_Score_Percentile   Log-Likelihood:                -1444.9\n",
       "Model:                           OrderedModel   AIC:                             2916.\n",
       "Method:                    Maximum Likelihood   BIC:                             2979.\n",
       "Date:                        Mon, 28 Nov 2022                                         \n",
       "Time:                                19:42:24                                         \n",
       "No. Observations:                         931                                         \n",
       "Df Residuals:                             918                                         \n",
       "Df Model:                                  13                                         \n",
       "====================================================================================================\n",
       "                                       coef    std err          z      P>|z|      [0.025      0.975]\n",
       "----------------------------------------------------------------------------------------------------\n",
       "Social support                      -0.9198      0.096     -9.579      0.000      -1.108      -0.732\n",
       "Log GDP per capita                  -1.1509      0.127     -9.036      0.000      -1.401      -0.901\n",
       "Healthy life expectancy at birth    -0.6163      0.120     -5.153      0.000      -0.851      -0.382\n",
       "Freedom to make life choices        -0.8348      0.073    -11.446      0.000      -0.978      -0.692\n",
       "0/1                                 -4.7459      0.178    -26.673      0.000      -5.095      -4.397\n",
       "1/2                                  0.2824      0.099      2.841      0.005       0.088       0.477\n",
       "2/3                                  0.2248      0.087      2.579      0.010       0.054       0.396\n",
       "3/4                                  0.4538      0.071      6.411      0.000       0.315       0.592\n",
       "4/5                                  0.2964      0.080      3.698      0.000       0.139       0.453\n",
       "5/6                                  0.5030      0.076      6.623      0.000       0.354       0.652\n",
       "6/7                                  0.4748      0.083      5.718      0.000       0.312       0.638\n",
       "7/8                                  0.2867      0.116      2.473      0.013       0.059       0.514\n",
       "8/9                                  0.7849      0.156      5.019      0.000       0.478       1.091\n",
       "====================================================================================================\n",
       "\"\"\""
      ]
     },
     "execution_count": 18,
     "metadata": {},
     "output_type": "execute_result"
    }
   ],
   "source": [
    "from statsmodels.miscmodels.ordinal_model import OrderedModel\n",
    "\n",
    "mod_prob = OrderedModel(y_train, x_train, distr='logit')\n",
    "res_prob = mod_prob.fit(method='bfgs')\n",
    "res_prob.summary()"
   ]
  },
  {
   "cell_type": "code",
   "execution_count": 19,
   "metadata": {},
   "outputs": [
    {
     "name": "stdout",
     "output_type": "stream",
     "text": [
      "RMS:  2.1168376650886924\n",
      "Accuracy:  0.3776824034334764\n"
     ]
    },
    {
     "name": "stderr",
     "output_type": "stream",
     "text": [
      "c:\\Users\\Rohit\\Anaconda3\\envs\\cs7643-a2\\lib\\site-packages\\statsmodels\\miscmodels\\ordinal_model.py:419: FutureWarning: Support for multi-dimensional indexing (e.g. `obj[:, None]`) is deprecated and will be removed in a future version.  Convert to a numpy array before indexing instead.\n",
      "  xb = xb[:, None]\n"
     ]
    }
   ],
   "source": [
    "y_pred = res_prob.model.predict(res_prob.params, x_test)\n",
    "y_pred = np.argmax(y_pred, axis=1)\n",
    "\n",
    "print(\"RMS: \", (mean_squared_error(y_test, y_pred))**2)\n",
    "print(\"Accuracy: \", accuracy_score(y_test, y_pred))"
   ]
  },
  {
   "cell_type": "markdown",
   "metadata": {},
   "source": [
    "Decision Tree"
   ]
  },
  {
   "cell_type": "code",
   "execution_count": 21,
   "metadata": {},
   "outputs": [
    {
     "name": "stdout",
     "output_type": "stream",
     "text": [
      "Depth:  3  Accuracy:  0.39914163090128757\n",
      "Depth:  4  Accuracy:  0.40772532188841204\n",
      "Depth:  5  Accuracy:  0.38626609442060084\n",
      "Depth:  6  Accuracy:  0.4334763948497854\n",
      "Depth:  7  Accuracy:  0.41201716738197425\n",
      "Depth:  8  Accuracy:  0.3776824034334764\n",
      "Depth:  9  Accuracy:  0.38626609442060084\n",
      "Depth:  10  Accuracy:  0.4034334763948498\n"
     ]
    }
   ],
   "source": [
    "#decision tree and visualization\n",
    "from sklearn.tree import DecisionTreeClassifier\n",
    "from sklearn import tree\n",
    "import graphviz\n",
    "\n",
    "# clf = DecisionTreeClassifier(random_state=0, max_depth=10)\n",
    "# clf = clf.fit(x_train, y_train)\n",
    "# y_pred = clf.predict(x_test)\n",
    "# print(clf.score(x_test, y_test))\n",
    "\n",
    "# #visualize tree\n",
    "# dot_data = tree.export_graphviz(clf, out_file=None)\n",
    "# graph = graphviz.Source(dot_data)\n",
    "# graph.render(\"happiness_depth10\")\n",
    "\n",
    "depths = [3,4,5,6,7,8,9,10]\n",
    "\n",
    "for depth in depths:\n",
    "    clf = DecisionTreeClassifier(random_state=0, max_depth=depth)\n",
    "    clf = clf.fit(x_train, y_train)\n",
    "    y_pred = clf.predict(x_test)\n",
    "    print(\"Depth: \", depth, \" Accuracy: \", clf.score(x_test, y_test))\n",
    "\n",
    "    dot_data = tree.export_graphviz(clf, out_file=None)\n",
    "    graph = graphviz.Source(dot_data)\n",
    "    graph.render(\"tree_visualizations/happiness_depth\" + str(depth))\n",
    "\n"
   ]
  }
 ],
 "metadata": {
  "kernelspec": {
   "display_name": "Python 3.9.2 ('cs7643-a2')",
   "language": "python",
   "name": "python3"
  },
  "language_info": {
   "codemirror_mode": {
    "name": "ipython",
    "version": 3
   },
   "file_extension": ".py",
   "mimetype": "text/x-python",
   "name": "python",
   "nbconvert_exporter": "python",
   "pygments_lexer": "ipython3",
   "version": "3.9.2"
  },
  "orig_nbformat": 4,
  "vscode": {
   "interpreter": {
    "hash": "a854752b2c7ec1ab6c8068a9b9478d5f81a8b10c0eed72f7ecbfa3d3c92ed59d"
   }
  }
 },
 "nbformat": 4,
 "nbformat_minor": 2
}
