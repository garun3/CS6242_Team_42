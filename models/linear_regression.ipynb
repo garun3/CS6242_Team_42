{
 "cells": [
  {
   "cell_type": "code",
   "execution_count": 3,
   "metadata": {},
   "outputs": [
    {
     "name": "stdout",
     "output_type": "stream",
     "text": [
      "Collecting scikit-learn\n",
      "  Downloading scikit_learn-1.1.3-cp39-cp39-win_amd64.whl (7.6 MB)\n",
      "Collecting joblib>=1.0.0\n",
      "  Using cached joblib-1.2.0-py3-none-any.whl (297 kB)\n",
      "Requirement already satisfied: numpy>=1.17.3 in c:\\users\\rohit\\anaconda3\\envs\\cs7643-a2\\lib\\site-packages (from scikit-learn) (1.23.3)\n",
      "Collecting scipy>=1.3.2\n",
      "  Using cached scipy-1.9.3-cp39-cp39-win_amd64.whl (40.2 MB)\n",
      "Collecting threadpoolctl>=2.0.0\n",
      "  Using cached threadpoolctl-3.1.0-py3-none-any.whl (14 kB)\n",
      "Installing collected packages: threadpoolctl, scipy, joblib, scikit-learn\n",
      "Successfully installed joblib-1.2.0 scikit-learn-1.1.3 scipy-1.9.3 threadpoolctl-3.1.0\n"
     ]
    }
   ],
   "source": [
    "! pip install -U scikit-learn"
   ]
  },
  {
   "cell_type": "code",
   "execution_count": 40,
   "metadata": {},
   "outputs": [],
   "source": [
    "from sklearn.linear_model import ElasticNetCV #Linear regression with regularization, cross fold validation\n",
    "from sklearn.linear_model import LinearRegression #Linear regression\n",
    "import pandas as pd"
   ]
  },
  {
   "cell_type": "code",
   "execution_count": 31,
   "metadata": {},
   "outputs": [
    {
     "name": "stdout",
     "output_type": "stream",
     "text": [
      "Unnamed: 0                           271.000000\n",
      "Log GDP per capita                    -2.011563\n",
      "Social support                        -1.387903\n",
      "Healthy life expectancy at birth      -1.977617\n",
      "Freedom to make life choices          -0.575604\n",
      "Generosity                             0.895211\n",
      "Perceptions of corruption              0.475767\n",
      "Positive affect                       -0.650197\n",
      "Negative affect                        1.077283\n",
      "Confidence in national government      0.960392\n",
      "Freedom_Rating                        -0.220721\n",
      "Life Expectancy                       -1.963586\n",
      "GDP                                   -0.283370\n",
      "Happiness_Score_Percentile             6.000000\n",
      "Name: 271, dtype: float64\n"
     ]
    }
   ],
   "source": [
    "# Convert country to country code\n",
    "data = pd.read_csv('../normalized_data.csv')\n",
    "# data['Country'] = data['Country'].astype('category')\n",
    "# data['Country'] = data['Country'].cat.codes\n",
    "# Drop NaN values\n",
    "data = data.dropna()\n",
    "\n",
    "data.drop(['Country'], axis=1, inplace=True)\n",
    "data.drop(['Year'], axis=1, inplace=True)\n",
    "data.drop(['Happiness Score'], axis=1, inplace=True)\n",
    "data.drop(['Percentile Ranges'], axis=1, inplace=True)\n",
    "print(data.iloc[250])"
   ]
  },
  {
   "cell_type": "code",
   "execution_count": 34,
   "metadata": {},
   "outputs": [
    {
     "name": "stdout",
     "output_type": "stream",
     "text": [
      "1379 train examples\n",
      "345 test examples\n"
     ]
    }
   ],
   "source": [
    "# Split data into train, test\n",
    "from sklearn.model_selection import train_test_split\n",
    "train, test = train_test_split(data, test_size=0.2)\n",
    "\n",
    "#split datasets into x and y\n",
    "y_train = train['Happiness_Score_Percentile']\n",
    "x_train = train.drop(['Happiness_Score_Percentile'], axis=1)\n",
    "y_test = test['Happiness_Score_Percentile']\n",
    "x_test = test.drop(['Happiness_Score_Percentile'], axis=1)\n",
    "\n",
    "assert len(x_train) == len(y_train)\n",
    "assert len(x_test) == len(y_test)\n",
    "assert len(x_train.iloc[0]) == len(x_test.iloc[0])\n",
    "print(len(x_train), 'train examples')\n",
    "print(len(x_test), 'test examples')"
   ]
  },
  {
   "cell_type": "code",
   "execution_count": 43,
   "metadata": {},
   "outputs": [
    {
     "name": "stdout",
     "output_type": "stream",
     "text": [
      "0.7522236186801939\n",
      "RMS:  1.1685417667710545\n",
      "Accuracy:  0.3507246376811594\n"
     ]
    }
   ],
   "source": [
    "#Find accuracy and error on test dataset\n",
    "from sklearn.metrics import mean_squared_error\n",
    "\n",
    "regr = ElasticNetCV(cv=5, random_state=0)\n",
    "regr.fit(x_train, y_train)\n",
    "print(regr.score(x_test, y_test))\n",
    "\n",
    "y_pred = regr.predict(x_test)\n",
    "\n",
    "# print(y_pred)\n",
    "print(\"RMS: \", sqrt(mean_squared_error(y_test, y_pred)))\n",
    "#Find accuracy\n",
    "from sklearn.metrics import accuracy_score\n",
    "print(\"Accuracy: \", accuracy_score(y_test, y_pred.round()))\n",
    "# print(\"Accuracy: \", accuracy_score(y_test, y_pred))\n"
   ]
  },
  {
   "cell_type": "code",
   "execution_count": 44,
   "metadata": {},
   "outputs": [
    {
     "name": "stdout",
     "output_type": "stream",
     "text": [
      "0.7544101950056465\n",
      "RMS:  1.163374268899578\n",
      "Accuracy:  0.3072463768115942\n"
     ]
    }
   ],
   "source": [
    "# Standard Linear regression\n",
    "reg = LinearRegression().fit(x_train, y_train)\n",
    "y_pred = reg.predict(x_test)\n",
    "print(reg.score(x_test, y_test))\n",
    "\n",
    "#Find accuracy and error on test dataset\n",
    "print(\"RMS: \", sqrt(mean_squared_error(y_test, y_pred)))\n",
    "print(\"Accuracy: \", accuracy_score(y_test, y_pred.round()))"
   ]
  }
 ],
 "metadata": {
  "kernelspec": {
   "display_name": "Python 3.9.2 ('cs7643-a2')",
   "language": "python",
   "name": "python3"
  },
  "language_info": {
   "codemirror_mode": {
    "name": "ipython",
    "version": 3
   },
   "file_extension": ".py",
   "mimetype": "text/x-python",
   "name": "python",
   "nbconvert_exporter": "python",
   "pygments_lexer": "ipython3",
   "version": "3.9.2"
  },
  "orig_nbformat": 4,
  "vscode": {
   "interpreter": {
    "hash": "a854752b2c7ec1ab6c8068a9b9478d5f81a8b10c0eed72f7ecbfa3d3c92ed59d"
   }
  }
 },
 "nbformat": 4,
 "nbformat_minor": 2
}
