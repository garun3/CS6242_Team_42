{
 "cells": [
  {
   "cell_type": "markdown",
   "metadata": {},
   "source": [
    "## Predict Hapiness Rank using a Decision Tree"
   ]
  },
  {
   "cell_type": "code",
   "execution_count": 29,
   "metadata": {},
   "outputs": [
    {
     "name": "stdout",
     "output_type": "stream",
     "text": [
      "Requirement already satisfied: pandas in /Users/ryan/Desktop/Development/School/College/CSE_6242/Project/venv/lib/python3.8/site-packages (1.5.2)\n",
      "Requirement already satisfied: pytz>=2020.1 in /Users/ryan/Desktop/Development/School/College/CSE_6242/Project/venv/lib/python3.8/site-packages (from pandas) (2022.6)\n",
      "Requirement already satisfied: numpy>=1.20.3 in /Users/ryan/Desktop/Development/School/College/CSE_6242/Project/venv/lib/python3.8/site-packages (from pandas) (1.23.5)\n",
      "Requirement already satisfied: python-dateutil>=2.8.1 in /Users/ryan/Desktop/Development/School/College/CSE_6242/Project/venv/lib/python3.8/site-packages (from pandas) (2.8.2)\n",
      "Requirement already satisfied: six>=1.5 in /Users/ryan/Desktop/Development/School/College/CSE_6242/Project/venv/lib/python3.8/site-packages (from python-dateutil>=2.8.1->pandas) (1.16.0)\n",
      "Requirement already satisfied: numpy in /Users/ryan/Desktop/Development/School/College/CSE_6242/Project/venv/lib/python3.8/site-packages (1.23.5)\n",
      "Requirement already satisfied: sklearn in /Users/ryan/Desktop/Development/School/College/CSE_6242/Project/venv/lib/python3.8/site-packages (0.0.post1)\n",
      "Requirement already satisfied: graphviz in /Users/ryan/Desktop/Development/School/College/CSE_6242/Project/venv/lib/python3.8/site-packages (0.20.1)\n"
     ]
    }
   ],
   "source": [
    "# Install needed libraries\n",
    "!pip install pandas\n",
    "!pip install numpy\n",
    "!pip install sklearn\n",
    "!pip install graphviz\n",
    "\n",
    "import pandas as pd\n",
    "import numpy as np\n",
    "from sklearn.model_selection import train_test_split\n",
    "from sklearn.tree import DecisionTreeClassifier\n",
    "from sklearn import tree\n",
    "import graphviz"
   ]
  },
  {
   "cell_type": "markdown",
   "metadata": {},
   "source": [
    "### Data Processing"
   ]
  },
  {
   "cell_type": "markdown",
   "metadata": {},
   "source": [
    "#### Select Features"
   ]
  },
  {
   "cell_type": "code",
   "execution_count": 45,
   "metadata": {},
   "outputs": [
    {
     "data": {
      "text/plain": [
       "Log GDP per capita                  -1.565348\n",
       "Social support                      -2.888644\n",
       "Healthy life expectancy at birth    -1.697393\n",
       "Freedom to make life choices        -1.111509\n",
       "Generosity                           0.371831\n",
       "Perceptions of corruption            0.355938\n",
       "Positive affect                     -0.992580\n",
       "Negative affect                      0.034729\n",
       "Confidence in national government    0.080438\n",
       "GDP                                 -0.300283\n",
       "Happiness_Score_Percentile           0.000000\n",
       "Name: 0, dtype: float64"
      ]
     },
     "execution_count": 45,
     "metadata": {},
     "output_type": "execute_result"
    }
   ],
   "source": [
    "data = pd.read_csv('../normalized_data.csv')\n",
    "\n",
    "# Top 4 features from PCA\n",
    "# data = data[['Social support', 'Log GDP per capita', 'Healthy life expectancy at birth', 'Freedom to make life choices', 'Happiness_Score_Percentile']]\n",
    "\n",
    "# Top 7 features from PCA\n",
    "# data = data[['Social support', 'Log GDP per capita', 'Healthy life expectancy at birth', 'Freedom to make life choices', 'Negative affect', 'Perceptions of corruption', 'Positive affect', 'Happiness_Score_Percentile']]\n",
    "\n",
    "# All 10 features\n",
    "data['Country'] = data['Country'].astype('category')\n",
    "data['Country'] = data['Country'].cat.codes\n",
    "data = data.drop(['Percentile Ranges'], axis=1)\n",
    "data = data.drop(['Unnamed: 0'], axis=1)\n",
    "data = data.drop([\"Happiness Score\"], axis=1)\n",
    "data = data.drop([\"Country\"], axis=1)\n",
    "data = data.drop([\"Year\"], axis=1)\n",
    "data = data.drop([\"Freedom_Rating\"], axis=1)\n",
    "data = data.drop([\"Life Expectancy\"], axis=1)\n",
    "\n",
    "# Happiness Score from 1 - 10\n",
    "data['Happiness_Score_Percentile'] = abs(data['Happiness_Score_Percentile'] - 9)\n",
    "\n",
    "# Binary happiness score\n",
    "data['Happiness_Score_Percentile'] = data['Happiness_Score_Percentile'].transform(lambda x: pd.cut(x, bins=2, labels=[0,1]))\n",
    "data = data.dropna()\n",
    "data.iloc[0]"
   ]
  },
  {
   "cell_type": "markdown",
   "metadata": {},
   "source": [
    "#### Split Data into Testing and Training"
   ]
  },
  {
   "cell_type": "code",
   "execution_count": 46,
   "metadata": {},
   "outputs": [
    {
     "name": "stdout",
     "output_type": "stream",
     "text": [
      "879 train examples\n",
      "220 test examples\n"
     ]
    }
   ],
   "source": [
    "train, test = train_test_split(data, test_size=0.2)\n",
    "\n",
    "y_train = train['Happiness_Score_Percentile']\n",
    "x_train = train.drop(['Happiness_Score_Percentile'], axis=1)\n",
    "y_test = test['Happiness_Score_Percentile']\n",
    "x_test = test.drop(['Happiness_Score_Percentile'], axis=1)\n",
    "\n",
    "assert len(x_train) == len(y_train)\n",
    "assert len(x_test) == len(y_test)\n",
    "assert len(x_train.iloc[0]) == len(x_test.iloc[0])\n",
    "print(len(x_train), 'train examples')\n",
    "print(len(x_test), 'test examples')"
   ]
  },
  {
   "cell_type": "markdown",
   "metadata": {},
   "source": [
    "### Run Decision Tree"
   ]
  },
  {
   "cell_type": "code",
   "execution_count": 47,
   "metadata": {},
   "outputs": [
    {
     "name": "stdout",
     "output_type": "stream",
     "text": [
      "Depth:  3  Accuracy:  0.8454545454545455\n",
      "Depth:  4  Accuracy:  0.8545454545454545\n",
      "Depth:  5  Accuracy:  0.85\n",
      "Depth:  6  Accuracy:  0.8318181818181818\n",
      "Depth:  7  Accuracy:  0.85\n",
      "Depth:  8  Accuracy:  0.8636363636363636\n",
      "Depth:  9  Accuracy:  0.8454545454545455\n",
      "Depth:  10  Accuracy:  0.8636363636363636\n",
      "Depth:  100  Accuracy:  0.8363636363636363\n"
     ]
    }
   ],
   "source": [
    "depths = [3,4,5,6,7,8,9,10,100]\n",
    "\n",
    "for depth in depths:\n",
    "    clf = DecisionTreeClassifier(random_state=0, max_depth=depth)\n",
    "    clf = clf.fit(x_train, y_train)\n",
    "    y_pred = clf.predict(x_test)\n",
    "    print(\"Depth: \", depth, \" Accuracy: \", clf.score(x_test, y_test))\n",
    "\n",
    "#     dot_data = tree.export_graphviz(clf, out_file=None, feature_names=['Social support', 'Log GDP per capita',\n",
    "#        'Healthy life expectancy at birth', 'Freedom to make life choices'], filled=True, rotate=True)\n",
    "#     graph = graphviz.Source(dot_data)\n",
    "#     graph.render(\"tree_visualizations_color/happiness_depth\" + str(depth))\n",
    "\n",
    "#     dot_data1 = tree.export_graphviz(clf, out_file=None, feature_names=['Social support', 'Log GDP per capita',\n",
    "#        'Healthy life expectancy at birth', 'Freedom to make life choices'], rotate=True)\n",
    "#     graph = graphviz.Source(dot_data1)\n",
    "#     graph.render(\"tree_visualizations/happiness_depth\" + str(depth))"
   ]
  },
  {
   "cell_type": "code",
   "execution_count": null,
   "metadata": {},
   "outputs": [],
   "source": []
  }
 ],
 "metadata": {
  "kernelspec": {
   "display_name": "Python 3 (ipykernel)",
   "language": "python",
   "name": "python3"
  },
  "language_info": {
   "codemirror_mode": {
    "name": "ipython",
    "version": 3
   },
   "file_extension": ".py",
   "mimetype": "text/x-python",
   "name": "python",
   "nbconvert_exporter": "python",
   "pygments_lexer": "ipython3",
   "version": "3.8.15"
  },
  "vscode": {
   "interpreter": {
    "hash": "aee8b7b246df8f9039afb4144a1f6fd8d2ca17a180786b69acc140d282b71a49"
   }
  }
 },
 "nbformat": 4,
 "nbformat_minor": 2
}
