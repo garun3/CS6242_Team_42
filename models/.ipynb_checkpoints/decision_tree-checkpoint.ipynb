{
 "cells": [
  {
   "cell_type": "markdown",
   "metadata": {},
   "source": [
    "## Predict Hapiness Rank using a Decision Tree"
   ]
  },
  {
   "cell_type": "code",
   "execution_count": 2,
   "metadata": {},
   "outputs": [
    {
     "name": "stdout",
     "output_type": "stream",
     "text": [
      "Requirement already satisfied: pandas in /Users/ryan/Desktop/Development/School/College/CSE_6242/Project/venv/lib/python3.8/site-packages (1.5.2)\n",
      "Requirement already satisfied: pytz>=2020.1 in /Users/ryan/Desktop/Development/School/College/CSE_6242/Project/venv/lib/python3.8/site-packages (from pandas) (2022.6)\n",
      "Requirement already satisfied: python-dateutil>=2.8.1 in /Users/ryan/Desktop/Development/School/College/CSE_6242/Project/venv/lib/python3.8/site-packages (from pandas) (2.8.2)\n",
      "Requirement already satisfied: numpy>=1.20.3 in /Users/ryan/Desktop/Development/School/College/CSE_6242/Project/venv/lib/python3.8/site-packages (from pandas) (1.23.5)\n",
      "Requirement already satisfied: six>=1.5 in /Users/ryan/Desktop/Development/School/College/CSE_6242/Project/venv/lib/python3.8/site-packages (from python-dateutil>=2.8.1->pandas) (1.16.0)\n",
      "Requirement already satisfied: numpy in /Users/ryan/Desktop/Development/School/College/CSE_6242/Project/venv/lib/python3.8/site-packages (1.23.5)\n",
      "Requirement already satisfied: sklearn in /Users/ryan/Desktop/Development/School/College/CSE_6242/Project/venv/lib/python3.8/site-packages (0.0.post1)\n",
      "Requirement already satisfied: graphviz in /Users/ryan/Desktop/Development/School/College/CSE_6242/Project/venv/lib/python3.8/site-packages (0.20.1)\n"
     ]
    }
   ],
   "source": [
    "# Install needed libraries\n",
    "!pip install pandas\n",
    "!pip install numpy\n",
    "!pip install sklearn\n",
    "!pip install graphviz\n",
    "\n",
    "import pandas as pd\n",
    "import numpy as np\n",
    "from sklearn.model_selection import train_test_split\n",
    "from sklearn.tree import DecisionTreeClassifier\n",
    "from sklearn import tree\n",
    "import graphviz"
   ]
  },
  {
   "cell_type": "markdown",
   "metadata": {},
   "source": [
    "### Data Processing"
   ]
  },
  {
   "cell_type": "markdown",
   "metadata": {},
   "source": [
    "#### Use Top 4 Features from PCA Results"
   ]
  },
  {
   "cell_type": "code",
   "execution_count": 3,
   "metadata": {},
   "outputs": [
    {
     "data": {
      "text/plain": [
       "Social support                     -2.888644\n",
       "Log GDP per capita                 -1.565348\n",
       "Healthy life expectancy at birth   -1.697393\n",
       "Freedom to make life choices       -1.111509\n",
       "Happiness_Score_Percentile          8.000000\n",
       "Name: 0, dtype: float64"
      ]
     },
     "execution_count": 3,
     "metadata": {},
     "output_type": "execute_result"
    }
   ],
   "source": [
    "data = pd.read_csv('../normalized_data.csv')\n",
    "data = data[['Social support', 'Log GDP per capita', 'Healthy life expectancy at birth', 'Freedom to make life choices', 'Happiness_Score_Percentile']]\n",
    "data = data.dropna()\n",
    "data.iloc[0]"
   ]
  },
  {
   "cell_type": "markdown",
   "metadata": {},
   "source": [
    "#### Split Data into Testing and Training"
   ]
  },
  {
   "cell_type": "code",
   "execution_count": 7,
   "metadata": {},
   "outputs": [
    {
     "name": "stdout",
     "output_type": "stream",
     "text": [
      "931 train examples\n",
      "233 test examples\n"
     ]
    }
   ],
   "source": [
    "train, test = train_test_split(data, test_size=0.2)\n",
    "\n",
    "y_train = train['Happiness_Score_Percentile']\n",
    "x_train = train.drop(['Happiness_Score_Percentile'], axis=1)\n",
    "y_test = test['Happiness_Score_Percentile']\n",
    "x_test = test.drop(['Happiness_Score_Percentile'], axis=1)\n",
    "\n",
    "assert len(x_train) == len(y_train)\n",
    "assert len(x_test) == len(y_test)\n",
    "assert len(x_train.iloc[0]) == len(x_test.iloc[0])\n",
    "print(len(x_train), 'train examples')\n",
    "print(len(x_test), 'test examples')"
   ]
  },
  {
   "cell_type": "markdown",
   "metadata": {},
   "source": [
    "### Run Decision Tree"
   ]
  },
  {
   "cell_type": "code",
   "execution_count": 13,
   "metadata": {},
   "outputs": [
    {
     "name": "stdout",
     "output_type": "stream",
     "text": [
      "Depth:  3  Accuracy:  0.3562231759656652\n",
      "Depth:  4  Accuracy:  0.3648068669527897\n",
      "Depth:  5  Accuracy:  0.3648068669527897\n",
      "Depth:  6  Accuracy:  0.3605150214592275\n",
      "Depth:  7  Accuracy:  0.3776824034334764\n",
      "Depth:  8  Accuracy:  0.34334763948497854\n",
      "Depth:  9  Accuracy:  0.3948497854077253\n",
      "Depth:  10  Accuracy:  0.44635193133047213\n"
     ]
    }
   ],
   "source": [
    "depths = [3,4,5,6,7,8,9,10]\n",
    "\n",
    "for depth in depths:\n",
    "    clf = DecisionTreeClassifier(random_state=0, max_depth=depth)\n",
    "    clf = clf.fit(x_train, y_train)\n",
    "    y_pred = clf.predict(x_test)\n",
    "    print(\"Depth: \", depth, \" Accuracy: \", clf.score(x_test, y_test))\n",
    "\n",
    "#     dot_data = tree.export_graphviz(clf, out_file=None)\n",
    "#     graph = graphviz.Source(dot_data)\n",
    "#     graph.render(\"tree_visualizations/happiness_depth\" + str(depth))"
   ]
  },
  {
   "cell_type": "code",
   "execution_count": null,
   "metadata": {},
   "outputs": [],
   "source": []
  }
 ],
 "metadata": {
  "kernelspec": {
   "display_name": "Python 3 (ipykernel)",
   "language": "python",
   "name": "python3"
  },
  "language_info": {
   "codemirror_mode": {
    "name": "ipython",
    "version": 3
   },
   "file_extension": ".py",
   "mimetype": "text/x-python",
   "name": "python",
   "nbconvert_exporter": "python",
   "pygments_lexer": "ipython3",
   "version": "3.8.5"
  },
  "vscode": {
   "interpreter": {
    "hash": "aee8b7b246df8f9039afb4144a1f6fd8d2ca17a180786b69acc140d282b71a49"
   }
  }
 },
 "nbformat": 4,
 "nbformat_minor": 2
}
