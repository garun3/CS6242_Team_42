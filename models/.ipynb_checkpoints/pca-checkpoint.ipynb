{
 "cells": [
  {
   "cell_type": "markdown",
   "metadata": {},
   "source": [
    "## Rank World Happiness Features using PCA"
   ]
  },
  {
   "cell_type": "code",
   "execution_count": 16,
   "metadata": {
    "scrolled": true
   },
   "outputs": [
    {
     "name": "stdout",
     "output_type": "stream",
     "text": [
      "Requirement already satisfied: sklearn in /Users/ryan/Desktop/Development/School/College/CSE_6242/Project/venv/lib/python3.8/site-packages (0.0.post1)\n",
      "Requirement already satisfied: pandas in /Users/ryan/Desktop/Development/School/College/CSE_6242/Project/venv/lib/python3.8/site-packages (1.5.2)\n",
      "Requirement already satisfied: pytz>=2020.1 in /Users/ryan/Desktop/Development/School/College/CSE_6242/Project/venv/lib/python3.8/site-packages (from pandas) (2022.6)\n",
      "Requirement already satisfied: python-dateutil>=2.8.1 in /Users/ryan/Desktop/Development/School/College/CSE_6242/Project/venv/lib/python3.8/site-packages (from pandas) (2.8.2)\n",
      "Requirement already satisfied: numpy>=1.20.3 in /Users/ryan/Desktop/Development/School/College/CSE_6242/Project/venv/lib/python3.8/site-packages (from pandas) (1.23.5)\n",
      "Requirement already satisfied: six>=1.5 in /Users/ryan/Desktop/Development/School/College/CSE_6242/Project/venv/lib/python3.8/site-packages (from python-dateutil>=2.8.1->pandas) (1.16.0)\n",
      "Requirement already satisfied: numpy in /Users/ryan/Desktop/Development/School/College/CSE_6242/Project/venv/lib/python3.8/site-packages (1.23.5)\n",
      "Requirement already satisfied: matplotlib in /Users/ryan/Desktop/Development/School/College/CSE_6242/Project/venv/lib/python3.8/site-packages (3.6.2)\n",
      "Requirement already satisfied: numpy>=1.19 in /Users/ryan/Desktop/Development/School/College/CSE_6242/Project/venv/lib/python3.8/site-packages (from matplotlib) (1.23.5)\n",
      "Requirement already satisfied: cycler>=0.10 in /Users/ryan/Desktop/Development/School/College/CSE_6242/Project/venv/lib/python3.8/site-packages (from matplotlib) (0.11.0)\n",
      "Requirement already satisfied: contourpy>=1.0.1 in /Users/ryan/Desktop/Development/School/College/CSE_6242/Project/venv/lib/python3.8/site-packages (from matplotlib) (1.0.6)\n",
      "Requirement already satisfied: python-dateutil>=2.7 in /Users/ryan/Desktop/Development/School/College/CSE_6242/Project/venv/lib/python3.8/site-packages (from matplotlib) (2.8.2)\n",
      "Requirement already satisfied: pyparsing>=2.2.1 in /Users/ryan/Desktop/Development/School/College/CSE_6242/Project/venv/lib/python3.8/site-packages (from matplotlib) (3.0.9)\n",
      "Requirement already satisfied: pillow>=6.2.0 in /Users/ryan/Desktop/Development/School/College/CSE_6242/Project/venv/lib/python3.8/site-packages (from matplotlib) (9.3.0)\n",
      "Requirement already satisfied: kiwisolver>=1.0.1 in /Users/ryan/Desktop/Development/School/College/CSE_6242/Project/venv/lib/python3.8/site-packages (from matplotlib) (1.4.4)\n",
      "Requirement already satisfied: fonttools>=4.22.0 in /Users/ryan/Desktop/Development/School/College/CSE_6242/Project/venv/lib/python3.8/site-packages (from matplotlib) (4.38.0)\n",
      "Requirement already satisfied: packaging>=20.0 in /Users/ryan/Desktop/Development/School/College/CSE_6242/Project/venv/lib/python3.8/site-packages (from matplotlib) (21.3)\n",
      "Requirement already satisfied: six>=1.5 in /Users/ryan/Desktop/Development/School/College/CSE_6242/Project/venv/lib/python3.8/site-packages (from python-dateutil>=2.7->matplotlib) (1.16.0)\n"
     ]
    }
   ],
   "source": [
    "# Install needed libraries\n",
    "!pip install sklearn\n",
    "!pip install pandas\n",
    "!pip install numpy\n",
    "!pip install matplotlib\n",
    "\n",
    "from sklearn.decomposition import PCA\n",
    "import pandas as pd\n",
    "import numpy as np\n",
    "import matplotlib.pyplot as plt"
   ]
  },
  {
   "cell_type": "markdown",
   "metadata": {},
   "source": [
    "### Data Processing"
   ]
  },
  {
   "cell_type": "code",
   "execution_count": 17,
   "metadata": {},
   "outputs": [
    {
     "data": {
      "text/plain": [
       "Log GDP per capita                  -1.565348\n",
       "Social support                      -2.888644\n",
       "Healthy life expectancy at birth    -1.697393\n",
       "Freedom to make life choices        -1.111509\n",
       "Generosity                           0.371831\n",
       "Perceptions of corruption            0.355938\n",
       "Positive affect                     -0.992580\n",
       "Negative affect                      0.034729\n",
       "Confidence in national government    0.080438\n",
       "GDP                                 -0.300283\n",
       "Name: 0, dtype: float64"
      ]
     },
     "execution_count": 17,
     "metadata": {},
     "output_type": "execute_result"
    }
   ],
   "source": [
    "# Get data\n",
    "data = pd.read_csv('../normalized_data.csv')\n",
    "data['Country'] = data['Country'].astype('category')\n",
    "data['Country'] = data['Country'].cat.codes\n",
    "\n",
    "# Drop irrelevant columns\n",
    "data = data.drop(['Percentile Ranges'], axis=1)\n",
    "data = data.drop(['Unnamed: 0'], axis=1)\n",
    "data = data.drop([\"Happiness_Score_Percentile\"], axis=1)\n",
    "data = data.drop([\"Happiness Score\"], axis=1)\n",
    "data = data.drop([\"Country\"], axis=1)\n",
    "data = data.drop([\"Year\"], axis=1)\n",
    "data = data.drop([\"Life Expectancy\"], axis=1)\n",
    "data = data.drop([\"Freedom_Rating\"], axis=1)\n",
    "data = data.dropna()\n",
    "data.iloc[0]"
   ]
  },
  {
   "cell_type": "markdown",
   "metadata": {},
   "source": [
    "### Run PCA"
   ]
  },
  {
   "cell_type": "code",
   "execution_count": 18,
   "metadata": {},
   "outputs": [
    {
     "name": "stdout",
     "output_type": "stream",
     "text": [
      "Features sorted by their corresponding component value:\n",
      "1 )  Social support  :  0.4229\n",
      "2 )  Log GDP per capita  :  0.4093\n",
      "3 )  Healthy life expectancy at birth  :  0.3966\n",
      "4 )  Freedom to make life choices  :  0.3662\n",
      "5 )  Negative affect  :  0.334\n",
      "6 )  Perceptions of corruption  :  0.327\n",
      "7 )  Positive affect  :  0.3246\n",
      "8 )  Generosity  :  0.1337\n",
      "9 )  GDP  :  0.1228\n",
      "10 )  Confidence in national government  :  0.0736\n"
     ]
    }
   ],
   "source": [
    "# Find the most important features with PCA\n",
    "pca = PCA(n_components=1)\n",
    "pca.fit(data)\n",
    "print(\"Features sorted by their corresponding component value:\")\n",
    "l = sorted(zip(map(lambda x: round(x, 4), abs(pca.components_[0])), data.columns), reverse=True)\n",
    "count = 0\n",
    "for i in l:\n",
    "    count+=1\n",
    "    print(str(count), \") \", i[1], \" : \", i[0])\n"
   ]
  },
  {
   "cell_type": "code",
   "execution_count": null,
   "metadata": {},
   "outputs": [],
   "source": []
  }
 ],
 "metadata": {
  "kernelspec": {
   "display_name": "Python 3 (ipykernel)",
   "language": "python",
   "name": "python3"
  },
  "language_info": {
   "codemirror_mode": {
    "name": "ipython",
    "version": 3
   },
   "file_extension": ".py",
   "mimetype": "text/x-python",
   "name": "python",
   "nbconvert_exporter": "python",
   "pygments_lexer": "ipython3",
   "version": "3.8.5"
  },
  "vscode": {
   "interpreter": {
    "hash": "a854752b2c7ec1ab6c8068a9b9478d5f81a8b10c0eed72f7ecbfa3d3c92ed59d"
   }
  }
 },
 "nbformat": 4,
 "nbformat_minor": 2
}
