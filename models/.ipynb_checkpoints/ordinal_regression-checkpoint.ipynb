{
 "cells": [
  {
   "cell_type": "markdown",
   "metadata": {},
   "source": [
    "## Predict Hapiness Rank using Ordinal Regression"
   ]
  },
  {
   "cell_type": "code",
   "execution_count": 1,
   "metadata": {},
   "outputs": [
    {
     "name": "stdout",
     "output_type": "stream",
     "text": [
      "Requirement already satisfied: pandas in /Users/ryan/Desktop/Development/School/College/CSE_6242/Project/venv/lib/python3.8/site-packages (1.5.2)\n",
      "Requirement already satisfied: numpy>=1.20.3 in /Users/ryan/Desktop/Development/School/College/CSE_6242/Project/venv/lib/python3.8/site-packages (from pandas) (1.23.5)\n",
      "Requirement already satisfied: pytz>=2020.1 in /Users/ryan/Desktop/Development/School/College/CSE_6242/Project/venv/lib/python3.8/site-packages (from pandas) (2022.6)\n",
      "Requirement already satisfied: python-dateutil>=2.8.1 in /Users/ryan/Desktop/Development/School/College/CSE_6242/Project/venv/lib/python3.8/site-packages (from pandas) (2.8.2)\n",
      "Requirement already satisfied: six>=1.5 in /Users/ryan/Desktop/Development/School/College/CSE_6242/Project/venv/lib/python3.8/site-packages (from python-dateutil>=2.8.1->pandas) (1.16.0)\n",
      "Requirement already satisfied: numpy in /Users/ryan/Desktop/Development/School/College/CSE_6242/Project/venv/lib/python3.8/site-packages (1.23.5)\n",
      "Requirement already satisfied: statsmodels in /Users/ryan/Desktop/Development/School/College/CSE_6242/Project/venv/lib/python3.8/site-packages (0.13.5)\n",
      "Requirement already satisfied: numpy>=1.17 in /Users/ryan/Desktop/Development/School/College/CSE_6242/Project/venv/lib/python3.8/site-packages (from statsmodels) (1.23.5)\n",
      "Requirement already satisfied: patsy>=0.5.2 in /Users/ryan/Desktop/Development/School/College/CSE_6242/Project/venv/lib/python3.8/site-packages (from statsmodels) (0.5.3)\n",
      "Requirement already satisfied: packaging>=21.3 in /Users/ryan/Desktop/Development/School/College/CSE_6242/Project/venv/lib/python3.8/site-packages (from statsmodels) (21.3)\n",
      "Requirement already satisfied: pandas>=0.25 in /Users/ryan/Desktop/Development/School/College/CSE_6242/Project/venv/lib/python3.8/site-packages (from statsmodels) (1.5.2)\n",
      "Requirement already satisfied: scipy>=1.3 in /Users/ryan/Desktop/Development/School/College/CSE_6242/Project/venv/lib/python3.8/site-packages (from statsmodels) (1.9.3)\n",
      "Requirement already satisfied: pyparsing!=3.0.5,>=2.0.2 in /Users/ryan/Desktop/Development/School/College/CSE_6242/Project/venv/lib/python3.8/site-packages (from packaging>=21.3->statsmodels) (3.0.9)\n",
      "Requirement already satisfied: pytz>=2020.1 in /Users/ryan/Desktop/Development/School/College/CSE_6242/Project/venv/lib/python3.8/site-packages (from pandas>=0.25->statsmodels) (2022.6)\n",
      "Requirement already satisfied: python-dateutil>=2.8.1 in /Users/ryan/Desktop/Development/School/College/CSE_6242/Project/venv/lib/python3.8/site-packages (from pandas>=0.25->statsmodels) (2.8.2)\n",
      "Requirement already satisfied: six in /Users/ryan/Desktop/Development/School/College/CSE_6242/Project/venv/lib/python3.8/site-packages (from patsy>=0.5.2->statsmodels) (1.16.0)\n",
      "Requirement already satisfied: sklearn in /Users/ryan/Desktop/Development/School/College/CSE_6242/Project/venv/lib/python3.8/site-packages (0.0.post1)\n"
     ]
    }
   ],
   "source": [
    "# Install needed libraries\n",
    "!pip install pandas\n",
    "!pip install numpy\n",
    "!pip install statsmodels\n",
    "!pip install sklearn\n",
    "\n",
    "import pandas as pd\n",
    "import numpy as np\n",
    "from statsmodels.miscmodels.ordinal_model import OrderedModel\n",
    "from sklearn.metrics import mean_squared_error, accuracy_score\n",
    "from sklearn.model_selection import train_test_split"
   ]
  },
  {
   "cell_type": "markdown",
   "metadata": {},
   "source": [
    "### Data Processing"
   ]
  },
  {
   "cell_type": "markdown",
   "metadata": {},
   "source": [
    "#### Use Top 4 Features from PCA Results"
   ]
  },
  {
   "cell_type": "code",
   "execution_count": 2,
   "metadata": {},
   "outputs": [
    {
     "data": {
      "text/plain": [
       "Social support                     -2.888644\n",
       "Log GDP per capita                 -1.565348\n",
       "Healthy life expectancy at birth   -1.697393\n",
       "Freedom to make life choices       -1.111509\n",
       "Happiness_Score_Percentile          8.000000\n",
       "Name: 0, dtype: float64"
      ]
     },
     "execution_count": 2,
     "metadata": {},
     "output_type": "execute_result"
    }
   ],
   "source": [
    "data = pd.read_csv('../normalized_data.csv')\n",
    "data = data[['Social support', 'Log GDP per capita', 'Healthy life expectancy at birth', 'Freedom to make life choices', 'Happiness_Score_Percentile']]\n",
    "data = data.dropna()\n",
    "data.iloc[0]"
   ]
  },
  {
   "cell_type": "markdown",
   "metadata": {},
   "source": [
    "#### Split Data into Testing and Training"
   ]
  },
  {
   "cell_type": "code",
   "execution_count": 3,
   "metadata": {},
   "outputs": [
    {
     "name": "stdout",
     "output_type": "stream",
     "text": [
      "931 train examples\n",
      "233 test examples\n"
     ]
    }
   ],
   "source": [
    "train, test = train_test_split(data, test_size=0.2)\n",
    "\n",
    "y_train = train['Happiness_Score_Percentile']\n",
    "x_train = train.drop(['Happiness_Score_Percentile'], axis=1)\n",
    "y_test = test['Happiness_Score_Percentile']\n",
    "x_test = test.drop(['Happiness_Score_Percentile'], axis=1)\n",
    "\n",
    "assert len(x_train) == len(y_train)\n",
    "assert len(x_test) == len(y_test)\n",
    "assert len(x_train.iloc[0]) == len(x_test.iloc[0])\n",
    "print(len(x_train), 'train examples')\n",
    "print(len(x_test), 'test examples')"
   ]
  },
  {
   "cell_type": "markdown",
   "metadata": {},
   "source": [
    "### Run Ordinal Regression"
   ]
  },
  {
   "cell_type": "code",
   "execution_count": 4,
   "metadata": {},
   "outputs": [
    {
     "name": "stdout",
     "output_type": "stream",
     "text": [
      "Optimization terminated successfully.\n",
      "         Current function value: 1.544257\n",
      "         Iterations: 35\n",
      "         Function evaluations: 36\n",
      "         Gradient evaluations: 36\n"
     ]
    },
    {
     "data": {
      "text/html": [
       "<table class=\"simpletable\">\n",
       "<caption>OrderedModel Results</caption>\n",
       "<tr>\n",
       "  <th>Dep. Variable:</th>    <td>Happiness_Score_Percentile</td> <th>  Log-Likelihood:    </th> <td> -1437.7</td>\n",
       "</tr>\n",
       "<tr>\n",
       "  <th>Model:</th>                   <td>OrderedModel</td>        <th>  AIC:               </th> <td>   2901.</td>\n",
       "</tr>\n",
       "<tr>\n",
       "  <th>Method:</th>               <td>Maximum Likelihood</td>     <th>  BIC:               </th> <td>   2964.</td>\n",
       "</tr>\n",
       "<tr>\n",
       "  <th>Date:</th>                  <td>Wed, 30 Nov 2022</td>      <th>                     </th>     <td> </td>   \n",
       "</tr>\n",
       "<tr>\n",
       "  <th>Time:</th>                      <td>16:23:59</td>          <th>                     </th>     <td> </td>   \n",
       "</tr>\n",
       "<tr>\n",
       "  <th>No. Observations:</th>           <td>   931</td>           <th>                     </th>     <td> </td>   \n",
       "</tr>\n",
       "<tr>\n",
       "  <th>Df Residuals:</th>               <td>   918</td>           <th>                     </th>     <td> </td>   \n",
       "</tr>\n",
       "<tr>\n",
       "  <th>Df Model:</th>                   <td>    13</td>           <th>                     </th>     <td> </td>   \n",
       "</tr>\n",
       "</table>\n",
       "<table class=\"simpletable\">\n",
       "<tr>\n",
       "                  <td></td>                    <th>coef</th>     <th>std err</th>      <th>z</th>      <th>P>|z|</th>  <th>[0.025</th>    <th>0.975]</th>  \n",
       "</tr>\n",
       "<tr>\n",
       "  <th>Social support</th>                   <td>   -0.9306</td> <td>    0.097</td> <td>   -9.633</td> <td> 0.000</td> <td>   -1.120</td> <td>   -0.741</td>\n",
       "</tr>\n",
       "<tr>\n",
       "  <th>Log GDP per capita</th>               <td>   -1.1499</td> <td>    0.125</td> <td>   -9.164</td> <td> 0.000</td> <td>   -1.396</td> <td>   -0.904</td>\n",
       "</tr>\n",
       "<tr>\n",
       "  <th>Healthy life expectancy at birth</th> <td>   -0.6676</td> <td>    0.118</td> <td>   -5.659</td> <td> 0.000</td> <td>   -0.899</td> <td>   -0.436</td>\n",
       "</tr>\n",
       "<tr>\n",
       "  <th>Freedom to make life choices</th>     <td>   -0.8349</td> <td>    0.071</td> <td>  -11.836</td> <td> 0.000</td> <td>   -0.973</td> <td>   -0.697</td>\n",
       "</tr>\n",
       "<tr>\n",
       "  <th>0/1</th>                              <td>   -4.7791</td> <td>    0.179</td> <td>  -26.662</td> <td> 0.000</td> <td>   -5.130</td> <td>   -4.428</td>\n",
       "</tr>\n",
       "<tr>\n",
       "  <th>1/2</th>                              <td>    0.3035</td> <td>    0.099</td> <td>    3.076</td> <td> 0.002</td> <td>    0.110</td> <td>    0.497</td>\n",
       "</tr>\n",
       "<tr>\n",
       "  <th>2/3</th>                              <td>    0.1830</td> <td>    0.090</td> <td>    2.035</td> <td> 0.042</td> <td>    0.007</td> <td>    0.359</td>\n",
       "</tr>\n",
       "<tr>\n",
       "  <th>3/4</th>                              <td>    0.4972</td> <td>    0.069</td> <td>    7.190</td> <td> 0.000</td> <td>    0.362</td> <td>    0.633</td>\n",
       "</tr>\n",
       "<tr>\n",
       "  <th>4/5</th>                              <td>    0.3762</td> <td>    0.077</td> <td>    4.913</td> <td> 0.000</td> <td>    0.226</td> <td>    0.526</td>\n",
       "</tr>\n",
       "<tr>\n",
       "  <th>5/6</th>                              <td>    0.4468</td> <td>    0.079</td> <td>    5.675</td> <td> 0.000</td> <td>    0.292</td> <td>    0.601</td>\n",
       "</tr>\n",
       "<tr>\n",
       "  <th>6/7</th>                              <td>    0.4840</td> <td>    0.084</td> <td>    5.773</td> <td> 0.000</td> <td>    0.320</td> <td>    0.648</td>\n",
       "</tr>\n",
       "<tr>\n",
       "  <th>7/8</th>                              <td>    0.2722</td> <td>    0.118</td> <td>    2.316</td> <td> 0.021</td> <td>    0.042</td> <td>    0.503</td>\n",
       "</tr>\n",
       "<tr>\n",
       "  <th>8/9</th>                              <td>    0.6975</td> <td>    0.155</td> <td>    4.496</td> <td> 0.000</td> <td>    0.393</td> <td>    1.002</td>\n",
       "</tr>\n",
       "</table>"
      ],
      "text/plain": [
       "<class 'statsmodels.iolib.summary.Summary'>\n",
       "\"\"\"\n",
       "                                 OrderedModel Results                                 \n",
       "======================================================================================\n",
       "Dep. Variable:     Happiness_Score_Percentile   Log-Likelihood:                -1437.7\n",
       "Model:                           OrderedModel   AIC:                             2901.\n",
       "Method:                    Maximum Likelihood   BIC:                             2964.\n",
       "Date:                        Wed, 30 Nov 2022                                         \n",
       "Time:                                16:23:59                                         \n",
       "No. Observations:                         931                                         \n",
       "Df Residuals:                             918                                         \n",
       "Df Model:                                  13                                         \n",
       "====================================================================================================\n",
       "                                       coef    std err          z      P>|z|      [0.025      0.975]\n",
       "----------------------------------------------------------------------------------------------------\n",
       "Social support                      -0.9306      0.097     -9.633      0.000      -1.120      -0.741\n",
       "Log GDP per capita                  -1.1499      0.125     -9.164      0.000      -1.396      -0.904\n",
       "Healthy life expectancy at birth    -0.6676      0.118     -5.659      0.000      -0.899      -0.436\n",
       "Freedom to make life choices        -0.8349      0.071    -11.836      0.000      -0.973      -0.697\n",
       "0/1                                 -4.7791      0.179    -26.662      0.000      -5.130      -4.428\n",
       "1/2                                  0.3035      0.099      3.076      0.002       0.110       0.497\n",
       "2/3                                  0.1830      0.090      2.035      0.042       0.007       0.359\n",
       "3/4                                  0.4972      0.069      7.190      0.000       0.362       0.633\n",
       "4/5                                  0.3762      0.077      4.913      0.000       0.226       0.526\n",
       "5/6                                  0.4468      0.079      5.675      0.000       0.292       0.601\n",
       "6/7                                  0.4840      0.084      5.773      0.000       0.320       0.648\n",
       "7/8                                  0.2722      0.118      2.316      0.021       0.042       0.503\n",
       "8/9                                  0.6975      0.155      4.496      0.000       0.393       1.002\n",
       "====================================================================================================\n",
       "\"\"\""
      ]
     },
     "execution_count": 4,
     "metadata": {},
     "output_type": "execute_result"
    }
   ],
   "source": [
    "mod_prob = OrderedModel(y_train, x_train, distr='logit')\n",
    "res_prob = mod_prob.fit(method='bfgs')\n",
    "res_prob.summary()"
   ]
  },
  {
   "cell_type": "code",
   "execution_count": 5,
   "metadata": {},
   "outputs": [
    {
     "name": "stdout",
     "output_type": "stream",
     "text": [
      "RMS:  1.2256206275788528\n",
      "Accuracy:  0.36909871244635195\n"
     ]
    },
    {
     "name": "stderr",
     "output_type": "stream",
     "text": [
      "/Users/ryan/Desktop/Development/School/College/CSE_6242/Project/venv/lib/python3.8/site-packages/statsmodels/miscmodels/ordinal_model.py:419: FutureWarning: Support for multi-dimensional indexing (e.g. `obj[:, None]`) is deprecated and will be removed in a future version.  Convert to a numpy array before indexing instead.\n",
      "  xb = xb[:, None]\n"
     ]
    }
   ],
   "source": [
    "y_pred = res_prob.model.predict(res_prob.params, x_test)\n",
    "y_pred = np.argmax(y_pred, axis=1)\n",
    "\n",
    "print(\"RMS: \", (mean_squared_error(y_test, y_pred))**0.5)\n",
    "print(\"Accuracy: \", accuracy_score(y_test, y_pred))"
   ]
  },
  {
   "cell_type": "code",
   "execution_count": null,
   "metadata": {},
   "outputs": [],
   "source": []
  }
 ],
 "metadata": {
  "kernelspec": {
   "display_name": "Python 3 (ipykernel)",
   "language": "python",
   "name": "python3"
  },
  "language_info": {
   "codemirror_mode": {
    "name": "ipython",
    "version": 3
   },
   "file_extension": ".py",
   "mimetype": "text/x-python",
   "name": "python",
   "nbconvert_exporter": "python",
   "pygments_lexer": "ipython3",
   "version": "3.8.15"
  },
  "vscode": {
   "interpreter": {
    "hash": "aee8b7b246df8f9039afb4144a1f6fd8d2ca17a180786b69acc140d282b71a49"
   }
  }
 },
 "nbformat": 4,
 "nbformat_minor": 2
}
