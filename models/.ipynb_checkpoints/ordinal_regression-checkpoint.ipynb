{
 "cells": [
  {
   "cell_type": "markdown",
   "metadata": {},
   "source": [
    "## Predict Hapiness Rank using Ordinal Regression"
   ]
  },
  {
   "cell_type": "code",
   "execution_count": 1,
   "metadata": {},
   "outputs": [
    {
     "name": "stdout",
     "output_type": "stream",
     "text": [
      "Requirement already satisfied: pandas in /Users/ryan/Desktop/Development/School/College/CSE_6242/Project/venv/lib/python3.8/site-packages (1.5.2)\n",
      "Requirement already satisfied: python-dateutil>=2.8.1 in /Users/ryan/Desktop/Development/School/College/CSE_6242/Project/venv/lib/python3.8/site-packages (from pandas) (2.8.2)\n",
      "Requirement already satisfied: numpy>=1.20.3 in /Users/ryan/Desktop/Development/School/College/CSE_6242/Project/venv/lib/python3.8/site-packages (from pandas) (1.23.5)\n",
      "Requirement already satisfied: pytz>=2020.1 in /Users/ryan/Desktop/Development/School/College/CSE_6242/Project/venv/lib/python3.8/site-packages (from pandas) (2022.6)\n",
      "Requirement already satisfied: six>=1.5 in /Users/ryan/Desktop/Development/School/College/CSE_6242/Project/venv/lib/python3.8/site-packages (from python-dateutil>=2.8.1->pandas) (1.16.0)\n",
      "Requirement already satisfied: numpy in /Users/ryan/Desktop/Development/School/College/CSE_6242/Project/venv/lib/python3.8/site-packages (1.23.5)\n",
      "Requirement already satisfied: statsmodels in /Users/ryan/Desktop/Development/School/College/CSE_6242/Project/venv/lib/python3.8/site-packages (0.13.5)\n",
      "Requirement already satisfied: scipy>=1.3 in /Users/ryan/Desktop/Development/School/College/CSE_6242/Project/venv/lib/python3.8/site-packages (from statsmodels) (1.9.3)\n",
      "Requirement already satisfied: packaging>=21.3 in /Users/ryan/Desktop/Development/School/College/CSE_6242/Project/venv/lib/python3.8/site-packages (from statsmodels) (21.3)\n",
      "Requirement already satisfied: numpy>=1.17 in /Users/ryan/Desktop/Development/School/College/CSE_6242/Project/venv/lib/python3.8/site-packages (from statsmodels) (1.23.5)\n",
      "Requirement already satisfied: patsy>=0.5.2 in /Users/ryan/Desktop/Development/School/College/CSE_6242/Project/venv/lib/python3.8/site-packages (from statsmodels) (0.5.3)\n",
      "Requirement already satisfied: pandas>=0.25 in /Users/ryan/Desktop/Development/School/College/CSE_6242/Project/venv/lib/python3.8/site-packages (from statsmodels) (1.5.2)\n",
      "Requirement already satisfied: pyparsing!=3.0.5,>=2.0.2 in /Users/ryan/Desktop/Development/School/College/CSE_6242/Project/venv/lib/python3.8/site-packages (from packaging>=21.3->statsmodels) (3.0.9)\n",
      "Requirement already satisfied: python-dateutil>=2.8.1 in /Users/ryan/Desktop/Development/School/College/CSE_6242/Project/venv/lib/python3.8/site-packages (from pandas>=0.25->statsmodels) (2.8.2)\n",
      "Requirement already satisfied: pytz>=2020.1 in /Users/ryan/Desktop/Development/School/College/CSE_6242/Project/venv/lib/python3.8/site-packages (from pandas>=0.25->statsmodels) (2022.6)\n",
      "Requirement already satisfied: six in /Users/ryan/Desktop/Development/School/College/CSE_6242/Project/venv/lib/python3.8/site-packages (from patsy>=0.5.2->statsmodels) (1.16.0)\n",
      "Requirement already satisfied: sklearn in /Users/ryan/Desktop/Development/School/College/CSE_6242/Project/venv/lib/python3.8/site-packages (0.0.post1)\n"
     ]
    }
   ],
   "source": [
    "# Install needed libraries\n",
    "!pip install pandas\n",
    "!pip install numpy\n",
    "!pip install statsmodels\n",
    "!pip install sklearn\n",
    "\n",
    "import pandas as pd\n",
    "import numpy as np\n",
    "from statsmodels.miscmodels.ordinal_model import OrderedModel\n",
    "from sklearn.metrics import mean_squared_error, accuracy_score\n",
    "from sklearn.model_selection import train_test_split"
   ]
  },
  {
   "cell_type": "markdown",
   "metadata": {},
   "source": [
    "### Data Processing"
   ]
  },
  {
   "cell_type": "markdown",
   "metadata": {},
   "source": [
    "#### Use Top 4 Features from PCA Results"
   ]
  },
  {
   "cell_type": "code",
   "execution_count": 2,
   "metadata": {},
   "outputs": [
    {
     "data": {
      "text/plain": [
       "Social support                     -2.888644\n",
       "Log GDP per capita                 -1.565348\n",
       "Healthy life expectancy at birth   -1.697393\n",
       "Freedom to make life choices       -1.111509\n",
       "Happiness_Score_Percentile          8.000000\n",
       "Name: 0, dtype: float64"
      ]
     },
     "execution_count": 2,
     "metadata": {},
     "output_type": "execute_result"
    }
   ],
   "source": [
    "data = pd.read_csv('../normalized_data.csv')\n",
    "data = data[['Social support', 'Log GDP per capita', 'Healthy life expectancy at birth', 'Freedom to make life choices', 'Happiness_Score_Percentile']]\n",
    "data = data.dropna()\n",
    "data.iloc[0]"
   ]
  },
  {
   "cell_type": "markdown",
   "metadata": {},
   "source": [
    "#### Split Data into Testing and Training"
   ]
  },
  {
   "cell_type": "code",
   "execution_count": 3,
   "metadata": {},
   "outputs": [
    {
     "name": "stdout",
     "output_type": "stream",
     "text": [
      "931 train examples\n",
      "233 test examples\n"
     ]
    }
   ],
   "source": [
    "train, test = train_test_split(data, test_size=0.2)\n",
    "\n",
    "y_train = train['Happiness_Score_Percentile']\n",
    "x_train = train.drop(['Happiness_Score_Percentile'], axis=1)\n",
    "y_test = test['Happiness_Score_Percentile']\n",
    "x_test = test.drop(['Happiness_Score_Percentile'], axis=1)\n",
    "\n",
    "assert len(x_train) == len(y_train)\n",
    "assert len(x_test) == len(y_test)\n",
    "assert len(x_train.iloc[0]) == len(x_test.iloc[0])\n",
    "print(len(x_train), 'train examples')\n",
    "print(len(x_test), 'test examples')"
   ]
  },
  {
   "cell_type": "markdown",
   "metadata": {},
   "source": [
    "### Run Ordinal Regression"
   ]
  },
  {
   "cell_type": "code",
   "execution_count": 4,
   "metadata": {},
   "outputs": [
    {
     "name": "stdout",
     "output_type": "stream",
     "text": [
      "Optimization terminated successfully.\n",
      "         Current function value: 1.558616\n",
      "         Iterations: 35\n",
      "         Function evaluations: 36\n",
      "         Gradient evaluations: 36\n"
     ]
    },
    {
     "data": {
      "text/html": [
       "<table class=\"simpletable\">\n",
       "<caption>OrderedModel Results</caption>\n",
       "<tr>\n",
       "  <th>Dep. Variable:</th>    <td>Happiness_Score_Percentile</td> <th>  Log-Likelihood:    </th> <td> -1451.1</td>\n",
       "</tr>\n",
       "<tr>\n",
       "  <th>Model:</th>                   <td>OrderedModel</td>        <th>  AIC:               </th> <td>   2928.</td>\n",
       "</tr>\n",
       "<tr>\n",
       "  <th>Method:</th>               <td>Maximum Likelihood</td>     <th>  BIC:               </th> <td>   2991.</td>\n",
       "</tr>\n",
       "<tr>\n",
       "  <th>Date:</th>                  <td>Wed, 30 Nov 2022</td>      <th>                     </th>     <td> </td>   \n",
       "</tr>\n",
       "<tr>\n",
       "  <th>Time:</th>                      <td>14:23:37</td>          <th>                     </th>     <td> </td>   \n",
       "</tr>\n",
       "<tr>\n",
       "  <th>No. Observations:</th>           <td>   931</td>           <th>                     </th>     <td> </td>   \n",
       "</tr>\n",
       "<tr>\n",
       "  <th>Df Residuals:</th>               <td>   918</td>           <th>                     </th>     <td> </td>   \n",
       "</tr>\n",
       "<tr>\n",
       "  <th>Df Model:</th>                   <td>    13</td>           <th>                     </th>     <td> </td>   \n",
       "</tr>\n",
       "</table>\n",
       "<table class=\"simpletable\">\n",
       "<tr>\n",
       "                  <td></td>                    <th>coef</th>     <th>std err</th>      <th>z</th>      <th>P>|z|</th>  <th>[0.025</th>    <th>0.975]</th>  \n",
       "</tr>\n",
       "<tr>\n",
       "  <th>Social support</th>                   <td>   -0.8836</td> <td>    0.096</td> <td>   -9.224</td> <td> 0.000</td> <td>   -1.071</td> <td>   -0.696</td>\n",
       "</tr>\n",
       "<tr>\n",
       "  <th>Log GDP per capita</th>               <td>   -1.1333</td> <td>    0.128</td> <td>   -8.878</td> <td> 0.000</td> <td>   -1.384</td> <td>   -0.883</td>\n",
       "</tr>\n",
       "<tr>\n",
       "  <th>Healthy life expectancy at birth</th> <td>   -0.7139</td> <td>    0.119</td> <td>   -5.994</td> <td> 0.000</td> <td>   -0.947</td> <td>   -0.481</td>\n",
       "</tr>\n",
       "<tr>\n",
       "  <th>Freedom to make life choices</th>     <td>   -0.8017</td> <td>    0.072</td> <td>  -11.167</td> <td> 0.000</td> <td>   -0.942</td> <td>   -0.661</td>\n",
       "</tr>\n",
       "<tr>\n",
       "  <th>0/1</th>                              <td>   -4.6349</td> <td>    0.174</td> <td>  -26.579</td> <td> 0.000</td> <td>   -4.977</td> <td>   -4.293</td>\n",
       "</tr>\n",
       "<tr>\n",
       "  <th>1/2</th>                              <td>    0.1914</td> <td>    0.104</td> <td>    1.839</td> <td> 0.066</td> <td>   -0.013</td> <td>    0.395</td>\n",
       "</tr>\n",
       "<tr>\n",
       "  <th>2/3</th>                              <td>    0.2251</td> <td>    0.087</td> <td>    2.581</td> <td> 0.010</td> <td>    0.054</td> <td>    0.396</td>\n",
       "</tr>\n",
       "<tr>\n",
       "  <th>3/4</th>                              <td>    0.4733</td> <td>    0.069</td> <td>    6.831</td> <td> 0.000</td> <td>    0.338</td> <td>    0.609</td>\n",
       "</tr>\n",
       "<tr>\n",
       "  <th>4/5</th>                              <td>    0.3209</td> <td>    0.078</td> <td>    4.126</td> <td> 0.000</td> <td>    0.168</td> <td>    0.473</td>\n",
       "</tr>\n",
       "<tr>\n",
       "  <th>5/6</th>                              <td>    0.4519</td> <td>    0.078</td> <td>    5.815</td> <td> 0.000</td> <td>    0.300</td> <td>    0.604</td>\n",
       "</tr>\n",
       "<tr>\n",
       "  <th>6/7</th>                              <td>    0.4828</td> <td>    0.085</td> <td>    5.713</td> <td> 0.000</td> <td>    0.317</td> <td>    0.648</td>\n",
       "</tr>\n",
       "<tr>\n",
       "  <th>7/8</th>                              <td>    0.2401</td> <td>    0.120</td> <td>    1.997</td> <td> 0.046</td> <td>    0.004</td> <td>    0.476</td>\n",
       "</tr>\n",
       "<tr>\n",
       "  <th>8/9</th>                              <td>    0.6734</td> <td>    0.157</td> <td>    4.289</td> <td> 0.000</td> <td>    0.366</td> <td>    0.981</td>\n",
       "</tr>\n",
       "</table>"
      ],
      "text/plain": [
       "<class 'statsmodels.iolib.summary.Summary'>\n",
       "\"\"\"\n",
       "                                 OrderedModel Results                                 \n",
       "======================================================================================\n",
       "Dep. Variable:     Happiness_Score_Percentile   Log-Likelihood:                -1451.1\n",
       "Model:                           OrderedModel   AIC:                             2928.\n",
       "Method:                    Maximum Likelihood   BIC:                             2991.\n",
       "Date:                        Wed, 30 Nov 2022                                         \n",
       "Time:                                14:23:37                                         \n",
       "No. Observations:                         931                                         \n",
       "Df Residuals:                             918                                         \n",
       "Df Model:                                  13                                         \n",
       "====================================================================================================\n",
       "                                       coef    std err          z      P>|z|      [0.025      0.975]\n",
       "----------------------------------------------------------------------------------------------------\n",
       "Social support                      -0.8836      0.096     -9.224      0.000      -1.071      -0.696\n",
       "Log GDP per capita                  -1.1333      0.128     -8.878      0.000      -1.384      -0.883\n",
       "Healthy life expectancy at birth    -0.7139      0.119     -5.994      0.000      -0.947      -0.481\n",
       "Freedom to make life choices        -0.8017      0.072    -11.167      0.000      -0.942      -0.661\n",
       "0/1                                 -4.6349      0.174    -26.579      0.000      -4.977      -4.293\n",
       "1/2                                  0.1914      0.104      1.839      0.066      -0.013       0.395\n",
       "2/3                                  0.2251      0.087      2.581      0.010       0.054       0.396\n",
       "3/4                                  0.4733      0.069      6.831      0.000       0.338       0.609\n",
       "4/5                                  0.3209      0.078      4.126      0.000       0.168       0.473\n",
       "5/6                                  0.4519      0.078      5.815      0.000       0.300       0.604\n",
       "6/7                                  0.4828      0.085      5.713      0.000       0.317       0.648\n",
       "7/8                                  0.2401      0.120      1.997      0.046       0.004       0.476\n",
       "8/9                                  0.6734      0.157      4.289      0.000       0.366       0.981\n",
       "====================================================================================================\n",
       "\"\"\""
      ]
     },
     "execution_count": 4,
     "metadata": {},
     "output_type": "execute_result"
    }
   ],
   "source": [
    "mod_prob = OrderedModel(y_train, x_train, distr='logit')\n",
    "res_prob = mod_prob.fit(method='bfgs')\n",
    "res_prob.summary()"
   ]
  },
  {
   "cell_type": "code",
   "execution_count": 5,
   "metadata": {},
   "outputs": [
    {
     "name": "stdout",
     "output_type": "stream",
     "text": [
      "RMS:  1.1719174706180953\n",
      "Accuracy:  0.38626609442060084\n"
     ]
    },
    {
     "name": "stderr",
     "output_type": "stream",
     "text": [
      "/Users/ryan/Desktop/Development/School/College/CSE_6242/Project/venv/lib/python3.8/site-packages/statsmodels/miscmodels/ordinal_model.py:419: FutureWarning: Support for multi-dimensional indexing (e.g. `obj[:, None]`) is deprecated and will be removed in a future version.  Convert to a numpy array before indexing instead.\n",
      "  xb = xb[:, None]\n"
     ]
    }
   ],
   "source": [
    "y_pred = res_prob.model.predict(res_prob.params, x_test)\n",
    "y_pred = np.argmax(y_pred, axis=1)\n",
    "\n",
    "print(\"RMS: \", (mean_squared_error(y_test, y_pred))**0.5)\n",
    "print(\"Accuracy: \", accuracy_score(y_test, y_pred))"
   ]
  },
  {
   "cell_type": "code",
   "execution_count": null,
   "metadata": {},
   "outputs": [],
   "source": []
  }
 ],
 "metadata": {
  "kernelspec": {
   "display_name": "Python 3 (ipykernel)",
   "language": "python",
   "name": "python3"
  },
  "language_info": {
   "codemirror_mode": {
    "name": "ipython",
    "version": 3
   },
   "file_extension": ".py",
   "mimetype": "text/x-python",
   "name": "python",
   "nbconvert_exporter": "python",
   "pygments_lexer": "ipython3",
   "version": "3.8.5"
  },
  "vscode": {
   "interpreter": {
    "hash": "aee8b7b246df8f9039afb4144a1f6fd8d2ca17a180786b69acc140d282b71a49"
   }
  }
 },
 "nbformat": 4,
 "nbformat_minor": 2
}
