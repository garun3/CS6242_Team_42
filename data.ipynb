{
 "cells": [
  {
   "cell_type": "code",
   "execution_count": 2,
   "metadata": {},
   "outputs": [
    {
     "output_type": "stream",
     "name": "stdout",
     "text": "Requirement already satisfied: xlrd in /Users/Gautham/miniconda3/envs/ai_env/lib/python3.7/site-packages (2.0.1)\nRequirement already satisfied: openpyxl in /Users/Gautham/miniconda3/envs/ai_env/lib/python3.7/site-packages (3.0.10)\nRequirement already satisfied: et-xmlfile in /Users/Gautham/miniconda3/envs/ai_env/lib/python3.7/site-packages (from openpyxl) (1.1.0)\n"
    }
   ],
   "source": [
    "import pandas as pd\n",
    "!pip install xlrd\n",
    "!pip install openpyxl"
   ]
  },
  {
   "cell_type": "code",
   "execution_count": 65,
   "metadata": {},
   "outputs": [],
   "source": [
    "gdp_df = pd.read_csv('datasets/GDP1.csv')\n",
    "### Next line unpivots table to have each year on a single row\n",
    "gdp_df = pd.melt(gdp_df, id_vars='Country Name', value_vars=list(gdp_df.columns[4:]), var_name='Year', value_name='GDP')\n",
    "gdp_df = gdp_df.rename(columns={'Country Name': 'Country'})\n",
    "gdp_df['Year'] = gdp_df['Year'].astype('int64')"
   ]
  },
  {
   "cell_type": "code",
   "execution_count": 66,
   "metadata": {
    "tags": [
     "outputPrepend"
    ]
   },
   "outputs": [],
   "source": [
    "#contains happiness scores. From World Happiness Report\n",
    "happy_data = pd.DataFrame()\n",
    "\n",
    "happy_data = pd.read_csv('datasets/Final_Happiness_Data.csv', encoding='latin-1')\n",
    "#year_df['Year'] = year\n",
    "happy_data = year_df[['Country','Happiness Score',\n",
    "   'Year']]"
   ]
  },
  {
   "cell_type": "code",
   "execution_count": 67,
   "metadata": {},
   "outputs": [],
   "source": [
    "# contains all other info about how happiness score was derived. From World Happiness Report\n",
    "happy_data1 = pd.read_excel('datasets/DataForTable2.1.xls')\n",
    "happy_data1 = happy_data1.rename(columns={'Country name': 'Country', 'year': 'Year'})"
   ]
  },
  {
   "cell_type": "code",
   "execution_count": 68,
   "metadata": {},
   "outputs": [],
   "source": [
    "happy_df = pd.merge(happy_data1, happy_data, on=['Country', 'Year'], how='left')#left_on=[\"Country name\", 'year'], right_on=['Country', 'Year'], how='left')"
   ]
  },
  {
   "cell_type": "code",
   "execution_count": 69,
   "metadata": {},
   "outputs": [],
   "source": [
    "le_df = pd.read_csv('datasets/Life_Expectancy.csv')\n",
    "### Next line unpivots table to have each year on a single row\n",
    "le_df = pd.melt(le_df, id_vars='Country Name', value_vars=list(le_df.columns[4:]), var_name='Year', value_name='Life Expectancy')\n",
    "le_df = le_df.rename(columns={'Country Name': 'Country'})\n",
    "le_df['Year'] = le_df['Year'].astype('int64')"
   ]
  },
  {
   "cell_type": "code",
   "execution_count": 70,
   "metadata": {},
   "outputs": [],
   "source": [
    "xlsx = pd.ExcelFile('datasets/Freedom.xlsx')\n",
    "freedom_df = pd.read_excel(xlsx, 'FIW13-22', header=1)\n",
    "freedom_df = freedom_df.rename(columns={'Country/Territory': 'Country', 'Edition': 'Year', 'Total': 'Freedom_Rating'})\n",
    "freedom_df = freedom_df[['Country', 'Year', 'Freedom_Rating']]"
   ]
  },
  {
   "cell_type": "code",
   "execution_count": 71,
   "metadata": {},
   "outputs": [],
   "source": [
    "# merge all dfs\n",
    "df = happy_df.merge(freedom_df, on=['Country', 'Year'], how='left')\n",
    "df = df.merge(le_df, on=['Country', 'Year'], how='left')\n",
    "df = df.merge(gdp_df, on=['Country', 'Year'], how='left')"
   ]
  },
  {
   "cell_type": "code",
   "execution_count": 73,
   "metadata": {},
   "outputs": [],
   "source": [
    "df.to_csv('all_data.csv')"
   ]
  },
  {
   "cell_type": "code",
   "execution_count": 72,
   "metadata": {},
   "outputs": [
    {
     "output_type": "execute_result",
     "data": {
      "text/plain": "          Country  Year  Life Ladder  Log GDP per capita  Social support  \\\n0     Afghanistan  2008     3.723590            7.302574        0.450662   \n1     Afghanistan  2009     4.401778            7.472446        0.552308   \n2     Afghanistan  2010     4.758381            7.579183        0.539075   \n3     Afghanistan  2011     3.831719            7.552006        0.521104   \n4     Afghanistan  2012     3.782938            7.637953        0.520637   \n...           ...   ...          ...                 ...             ...   \n2084     Zimbabwe  2017     3.638300            8.241609        0.754147   \n2085     Zimbabwe  2018     3.616480            8.274620        0.775388   \n2086     Zimbabwe  2019     2.693523            8.196998        0.759162   \n2087     Zimbabwe  2020     3.159802            8.117733        0.717243   \n2088     Zimbabwe  2021     3.154578            8.153248        0.685151   \n\n      Healthy life expectancy at birth  Freedom to make life choices  \\\n0                            50.500000                      0.718114   \n1                            50.799999                      0.678896   \n2                            51.099998                      0.600127   \n3                            51.400002                      0.495901   \n4                            51.700001                      0.530935   \n...                                ...                           ...   \n2084                         52.150002                      0.752826   \n2085                         52.625000                      0.762675   \n2086                         53.099998                      0.631908   \n2087                         53.575001                      0.643303   \n2088                         54.049999                      0.667636   \n\n      Generosity  Perceptions of corruption  Positive affect  Negative affect  \\\n0       0.173169                   0.881686         0.414297         0.258195   \n1       0.195469                   0.850035         0.481421         0.237092   \n2       0.125859                   0.706766         0.516907         0.275324   \n3       0.167723                   0.731109         0.479835         0.267175   \n4       0.241247                   0.775620         0.613513         0.267919   \n...          ...                        ...              ...              ...   \n2084   -0.113937                   0.751208         0.733641         0.224051   \n2085   -0.084747                   0.844209         0.657524         0.211726   \n2086   -0.081540                   0.830652         0.658434         0.235354   \n2087   -0.029376                   0.788523         0.660658         0.345736   \n2088   -0.109439                   0.756945         0.609917         0.241682   \n\n      Confidence in national government  Happiness Score  Freedom_Rating  \\\n0                              0.612072         3.723590             NaN   \n1                              0.611545         4.401778             NaN   \n2                              0.299357         4.758381             NaN   \n3                              0.307386         3.831719             NaN   \n4                              0.435440         3.782938             NaN   \n...                                 ...              ...             ...   \n2084                           0.682647         3.638300            32.0   \n2085                           0.550508         3.616480            30.0   \n2086                           0.456455         2.693523            31.0   \n2087                           0.577302         3.159802            29.0   \n2088                           0.665703         3.154578            28.0   \n\n      Life Expectancy           GDP  \n0              59.930  1.010931e+10  \n1              60.484  1.241616e+10  \n2              61.028  1.585668e+10  \n3              61.553  1.780511e+10  \n4              62.054  1.990732e+10  \n...               ...           ...  \n2084           60.812  1.758489e+10  \n2085           61.195  1.811554e+10  \n2086           61.490  1.928429e+10  \n2087           61.738  1.805117e+10  \n2088              NaN  2.621773e+10  \n\n[2089 rows x 16 columns]",
      "text/html": "<div>\n<style scoped>\n    .dataframe tbody tr th:only-of-type {\n        vertical-align: middle;\n    }\n\n    .dataframe tbody tr th {\n        vertical-align: top;\n    }\n\n    .dataframe thead th {\n        text-align: right;\n    }\n</style>\n<table border=\"1\" class=\"dataframe\">\n  <thead>\n    <tr style=\"text-align: right;\">\n      <th></th>\n      <th>Country</th>\n      <th>Year</th>\n      <th>Life Ladder</th>\n      <th>Log GDP per capita</th>\n      <th>Social support</th>\n      <th>Healthy life expectancy at birth</th>\n      <th>Freedom to make life choices</th>\n      <th>Generosity</th>\n      <th>Perceptions of corruption</th>\n      <th>Positive affect</th>\n      <th>Negative affect</th>\n      <th>Confidence in national government</th>\n      <th>Happiness Score</th>\n      <th>Freedom_Rating</th>\n      <th>Life Expectancy</th>\n      <th>GDP</th>\n    </tr>\n  </thead>\n  <tbody>\n    <tr>\n      <th>0</th>\n      <td>Afghanistan</td>\n      <td>2008</td>\n      <td>3.723590</td>\n      <td>7.302574</td>\n      <td>0.450662</td>\n      <td>50.500000</td>\n      <td>0.718114</td>\n      <td>0.173169</td>\n      <td>0.881686</td>\n      <td>0.414297</td>\n      <td>0.258195</td>\n      <td>0.612072</td>\n      <td>3.723590</td>\n      <td>NaN</td>\n      <td>59.930</td>\n      <td>1.010931e+10</td>\n    </tr>\n    <tr>\n      <th>1</th>\n      <td>Afghanistan</td>\n      <td>2009</td>\n      <td>4.401778</td>\n      <td>7.472446</td>\n      <td>0.552308</td>\n      <td>50.799999</td>\n      <td>0.678896</td>\n      <td>0.195469</td>\n      <td>0.850035</td>\n      <td>0.481421</td>\n      <td>0.237092</td>\n      <td>0.611545</td>\n      <td>4.401778</td>\n      <td>NaN</td>\n      <td>60.484</td>\n      <td>1.241616e+10</td>\n    </tr>\n    <tr>\n      <th>2</th>\n      <td>Afghanistan</td>\n      <td>2010</td>\n      <td>4.758381</td>\n      <td>7.579183</td>\n      <td>0.539075</td>\n      <td>51.099998</td>\n      <td>0.600127</td>\n      <td>0.125859</td>\n      <td>0.706766</td>\n      <td>0.516907</td>\n      <td>0.275324</td>\n      <td>0.299357</td>\n      <td>4.758381</td>\n      <td>NaN</td>\n      <td>61.028</td>\n      <td>1.585668e+10</td>\n    </tr>\n    <tr>\n      <th>3</th>\n      <td>Afghanistan</td>\n      <td>2011</td>\n      <td>3.831719</td>\n      <td>7.552006</td>\n      <td>0.521104</td>\n      <td>51.400002</td>\n      <td>0.495901</td>\n      <td>0.167723</td>\n      <td>0.731109</td>\n      <td>0.479835</td>\n      <td>0.267175</td>\n      <td>0.307386</td>\n      <td>3.831719</td>\n      <td>NaN</td>\n      <td>61.553</td>\n      <td>1.780511e+10</td>\n    </tr>\n    <tr>\n      <th>4</th>\n      <td>Afghanistan</td>\n      <td>2012</td>\n      <td>3.782938</td>\n      <td>7.637953</td>\n      <td>0.520637</td>\n      <td>51.700001</td>\n      <td>0.530935</td>\n      <td>0.241247</td>\n      <td>0.775620</td>\n      <td>0.613513</td>\n      <td>0.267919</td>\n      <td>0.435440</td>\n      <td>3.782938</td>\n      <td>NaN</td>\n      <td>62.054</td>\n      <td>1.990732e+10</td>\n    </tr>\n    <tr>\n      <th>...</th>\n      <td>...</td>\n      <td>...</td>\n      <td>...</td>\n      <td>...</td>\n      <td>...</td>\n      <td>...</td>\n      <td>...</td>\n      <td>...</td>\n      <td>...</td>\n      <td>...</td>\n      <td>...</td>\n      <td>...</td>\n      <td>...</td>\n      <td>...</td>\n      <td>...</td>\n      <td>...</td>\n    </tr>\n    <tr>\n      <th>2084</th>\n      <td>Zimbabwe</td>\n      <td>2017</td>\n      <td>3.638300</td>\n      <td>8.241609</td>\n      <td>0.754147</td>\n      <td>52.150002</td>\n      <td>0.752826</td>\n      <td>-0.113937</td>\n      <td>0.751208</td>\n      <td>0.733641</td>\n      <td>0.224051</td>\n      <td>0.682647</td>\n      <td>3.638300</td>\n      <td>32.0</td>\n      <td>60.812</td>\n      <td>1.758489e+10</td>\n    </tr>\n    <tr>\n      <th>2085</th>\n      <td>Zimbabwe</td>\n      <td>2018</td>\n      <td>3.616480</td>\n      <td>8.274620</td>\n      <td>0.775388</td>\n      <td>52.625000</td>\n      <td>0.762675</td>\n      <td>-0.084747</td>\n      <td>0.844209</td>\n      <td>0.657524</td>\n      <td>0.211726</td>\n      <td>0.550508</td>\n      <td>3.616480</td>\n      <td>30.0</td>\n      <td>61.195</td>\n      <td>1.811554e+10</td>\n    </tr>\n    <tr>\n      <th>2086</th>\n      <td>Zimbabwe</td>\n      <td>2019</td>\n      <td>2.693523</td>\n      <td>8.196998</td>\n      <td>0.759162</td>\n      <td>53.099998</td>\n      <td>0.631908</td>\n      <td>-0.081540</td>\n      <td>0.830652</td>\n      <td>0.658434</td>\n      <td>0.235354</td>\n      <td>0.456455</td>\n      <td>2.693523</td>\n      <td>31.0</td>\n      <td>61.490</td>\n      <td>1.928429e+10</td>\n    </tr>\n    <tr>\n      <th>2087</th>\n      <td>Zimbabwe</td>\n      <td>2020</td>\n      <td>3.159802</td>\n      <td>8.117733</td>\n      <td>0.717243</td>\n      <td>53.575001</td>\n      <td>0.643303</td>\n      <td>-0.029376</td>\n      <td>0.788523</td>\n      <td>0.660658</td>\n      <td>0.345736</td>\n      <td>0.577302</td>\n      <td>3.159802</td>\n      <td>29.0</td>\n      <td>61.738</td>\n      <td>1.805117e+10</td>\n    </tr>\n    <tr>\n      <th>2088</th>\n      <td>Zimbabwe</td>\n      <td>2021</td>\n      <td>3.154578</td>\n      <td>8.153248</td>\n      <td>0.685151</td>\n      <td>54.049999</td>\n      <td>0.667636</td>\n      <td>-0.109439</td>\n      <td>0.756945</td>\n      <td>0.609917</td>\n      <td>0.241682</td>\n      <td>0.665703</td>\n      <td>3.154578</td>\n      <td>28.0</td>\n      <td>NaN</td>\n      <td>2.621773e+10</td>\n    </tr>\n  </tbody>\n</table>\n<p>2089 rows × 16 columns</p>\n</div>"
     },
     "metadata": {},
     "execution_count": 72
    }
   ],
   "source": [
    "df"
   ]
  },
  {
   "cell_type": "code",
   "execution_count": null,
   "metadata": {},
   "outputs": [],
   "source": []
  }
 ],
 "metadata": {
  "language_info": {
   "codemirror_mode": {
    "name": "ipython",
    "version": 3
   },
   "file_extension": ".py",
   "mimetype": "text/x-python",
   "name": "python",
   "nbconvert_exporter": "python",
   "pygments_lexer": "ipython3",
   "version": "3.7.13-final"
  },
  "orig_nbformat": 2,
  "kernelspec": {
   "name": "python371364bitaienvconda4e3431b9d13b485386668a4ac1dbbc34",
   "display_name": "Python 3.7.13 64-bit ('ai_env': conda)"
  }
 },
 "nbformat": 4,
 "nbformat_minor": 2
}