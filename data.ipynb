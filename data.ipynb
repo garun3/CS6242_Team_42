{
 "cells": [
  {
   "cell_type": "code",
   "execution_count": 114,
   "metadata": {},
   "outputs": [
    {
     "output_type": "stream",
     "name": "stdout",
     "text": "Requirement already satisfied: xlrd in /Users/Gautham/miniconda3/envs/ai_env/lib/python3.7/site-packages (2.0.1)\nCollecting openpyxl\n  Downloading openpyxl-3.0.10-py2.py3-none-any.whl (242 kB)\n\u001b[2K     \u001b[90m━━━━━━━━━━━━━━━━━━━━━━━━━━━━━━━━━━━━━━━\u001b[0m \u001b[32m242.1/242.1 kB\u001b[0m \u001b[31m4.7 MB/s\u001b[0m eta \u001b[36m0:00:00\u001b[0m\n\u001b[?25hCollecting et-xmlfile\n  Using cached et_xmlfile-1.1.0-py3-none-any.whl (4.7 kB)\nInstalling collected packages: et-xmlfile, openpyxl\nSuccessfully installed et-xmlfile-1.1.0 openpyxl-3.0.10\n"
    }
   ],
   "source": [
    "import pandas as pd\n",
    "!pip install xlrd\n",
    "!pip install openpyxl"
   ]
  },
  {
   "cell_type": "code",
   "execution_count": 208,
   "metadata": {},
   "outputs": [],
   "source": [
    "gdp_df = pd.read_csv('GDP1.csv')\n",
    "gdp_df = gdp_df.fillna(-1)\n",
    "### Next line unpivots table to have each year on a single row\n",
    "gdp_df = pd.melt(gdp_df, id_vars='Country Name', value_vars=list(gdp_df.columns[4:]), var_name='Year', value_name='GDP')\n",
    "gdp_df = gdp_df.rename(columns={'Country Name': 'Country'})\n",
    "gdp_df['Year'] = gdp_df['Year'].astype('int64')"
   ]
  },
  {
   "cell_type": "code",
   "execution_count": 212,
   "metadata": {
    "tags": [
     "outputPrepend"
    ]
   },
   "outputs": [],
   "source": [
    "#contains happiness scores. From World Happiness Report\n",
    "happy_data = pd.DataFrame()\n",
    "\n",
    "for year in [2015, 2016, 2017, 2018, 2019, 2020, 2021, 2022]:\n",
    "    year_df = pd.read_csv('archive-2/' + str(year) + '.csv', encoding='latin-1')\n",
    "    year_df['Year'] = year\n",
    "    year_df = year_df[['Country', 'Happiness Rank', 'Happiness Score',\n",
    "       'Year']]\n",
    "    year_df = year_df.dropna()\n",
    "    happy_data = pd.concat([happy_data, year_df])"
   ]
  },
  {
   "cell_type": "code",
   "execution_count": 213,
   "metadata": {},
   "outputs": [],
   "source": [
    "# contains all other info about how happiness score was derived. From World Happiness Report\n",
    "happy_data1 = pd.read_excel('DataForTable2.1.xls')\n",
    "happy_data1 = happy_data1.rename(columns={'Country name': 'Country', 'year': 'Year'})"
   ]
  },
  {
   "cell_type": "code",
   "execution_count": 214,
   "metadata": {},
   "outputs": [],
   "source": [
    "happy_df = pd.merge(happy_data1, happy_data, on=['Country', 'Year'], how='left')#left_on=[\"Country name\", 'year'], right_on=['Country', 'Year'], how='left')"
   ]
  },
  {
   "cell_type": "code",
   "execution_count": 219,
   "metadata": {},
   "outputs": [],
   "source": [
    "happy_df = happy_df[happy_df['Year'] >= 2012]"
   ]
  },
  {
   "cell_type": "code",
   "execution_count": 220,
   "metadata": {},
   "outputs": [],
   "source": [
    "le_df = pd.read_csv('Life_expectancy/Life_Expectancy.csv')\n",
    "le_df = le_df.fillna(-1)\n",
    "### Next line unpivots table to have each year on a single row\n",
    "le_df = pd.melt(le_df, id_vars='Country Name', value_vars=list(le_df.columns[4:]), var_name='Year', value_name='Life Expectancy')\n",
    "le_df = le_df.rename(columns={'Country Name': 'Country'})\n",
    "le_df['Year'] = le_df['Year'].astype('int64')"
   ]
  },
  {
   "cell_type": "code",
   "execution_count": 221,
   "metadata": {},
   "outputs": [],
   "source": [
    "xlsx = pd.ExcelFile('Freedom.xlsx')\n",
    "freedom_df = pd.read_excel(xlsx, 'FIW13-22', header=1)\n",
    "freedom_df = freedom_df.rename(columns={'Country/Territory': 'Country', 'Edition': 'Year', 'Total': 'Freedom_Rating'})\n",
    "freedom_df = freedom_df[['Country', 'Year', 'Freedom_Rating']]"
   ]
  },
  {
   "cell_type": "code",
   "execution_count": 222,
   "metadata": {},
   "outputs": [],
   "source": [
    "# merge all dfs\n",
    "df = happy_df.merge(freedom_df, on=['Country', 'Year'], how='left')\n",
    "df = df.merge(le_df, on=['Country', 'Year'], how='left')\n",
    "df = df.merge(gdp_df, on=['Country', 'Year'], how='left')"
   ]
  },
  {
   "cell_type": "code",
   "execution_count": 206,
   "metadata": {},
   "outputs": [],
   "source": [
    "df.to_csv('all_data.csv')"
   ]
  },
  {
   "cell_type": "code",
   "execution_count": 223,
   "metadata": {},
   "outputs": [
    {
     "output_type": "execute_result",
     "data": {
      "text/plain": "          Country  Year  Life Ladder  Log GDP per capita  Social support  \\\n0     Afghanistan  2012     3.782938            7.637953        0.520637   \n1     Afghanistan  2013     3.572100            7.657503        0.483552   \n2     Afghanistan  2014     3.130896            7.650827        0.525568   \n3     Afghanistan  2015     3.982855            7.634466        0.528597   \n4     Afghanistan  2016     4.220169            7.629037        0.559072   \n...           ...   ...          ...                 ...             ...   \n1372     Zimbabwe  2017     3.638300            8.241609        0.754147   \n1373     Zimbabwe  2018     3.616480            8.274620        0.775388   \n1374     Zimbabwe  2019     2.693523            8.196998        0.759162   \n1375     Zimbabwe  2020     3.159802            8.117733        0.717243   \n1376     Zimbabwe  2021     3.154578            8.153248        0.685151   \n\n      Healthy life expectancy at birth  Freedom to make life choices  \\\n0                            51.700001                      0.530935   \n1                            52.000000                      0.577955   \n2                            52.299999                      0.508514   \n3                            52.599998                      0.388928   \n4                            52.924999                      0.522566   \n...                                ...                           ...   \n1372                         52.150002                      0.752826   \n1373                         52.625000                      0.762675   \n1374                         53.099998                      0.631908   \n1375                         53.575001                      0.643303   \n1376                         54.049999                      0.667636   \n\n      Generosity  Perceptions of corruption  Positive affect  Negative affect  \\\n0       0.241247                   0.775620         0.613513         0.267919   \n1       0.066344                   0.823204         0.547417         0.273328   \n2       0.109215                   0.871242         0.491641         0.374861   \n3       0.085082                   0.880638         0.491410         0.339276   \n4       0.047488                   0.793246         0.501409         0.348332   \n...          ...                        ...              ...              ...   \n1372   -0.113937                   0.751208         0.733641         0.224051   \n1373   -0.084747                   0.844209         0.657524         0.211726   \n1374   -0.081540                   0.830652         0.658434         0.235354   \n1375   -0.029376                   0.788523         0.660658         0.345736   \n1376   -0.109439                   0.756945         0.609917         0.241682   \n\n      Confidence in national government  Happiness Rank Happiness Score  \\\n0                              0.435440             NaN             NaN   \n1                              0.482847             NaN             NaN   \n2                              0.409048             NaN             NaN   \n3                              0.260557           153.0           3.575   \n4                              0.324990           154.0            3.36   \n...                                 ...             ...             ...   \n1372                           0.682647           138.0           3.875   \n1373                           0.550508           144.0           3.692   \n1374                           0.456455           146.0           3.663   \n1375                           0.577302           151.0          3.2992   \n1376                           0.665703           148.0           3.145   \n\n      Freedom_Rating  Life Expectancy           GDP  \n0                NaN           62.054  1.990732e+10  \n1               27.0           62.525  2.014640e+10  \n2               26.0           62.966  2.049713e+10  \n3               24.0           63.377  1.913421e+10  \n4               24.0           63.763  1.811656e+10  \n...              ...              ...           ...  \n1372            32.0           60.812  1.758489e+10  \n1373            30.0           61.195  1.811554e+10  \n1374            31.0           61.490  1.928429e+10  \n1375            29.0           61.738  1.805117e+10  \n1376            28.0           -1.000  2.621773e+10  \n\n[1377 rows x 17 columns]",
      "text/html": "<div>\n<style scoped>\n    .dataframe tbody tr th:only-of-type {\n        vertical-align: middle;\n    }\n\n    .dataframe tbody tr th {\n        vertical-align: top;\n    }\n\n    .dataframe thead th {\n        text-align: right;\n    }\n</style>\n<table border=\"1\" class=\"dataframe\">\n  <thead>\n    <tr style=\"text-align: right;\">\n      <th></th>\n      <th>Country</th>\n      <th>Year</th>\n      <th>Life Ladder</th>\n      <th>Log GDP per capita</th>\n      <th>Social support</th>\n      <th>Healthy life expectancy at birth</th>\n      <th>Freedom to make life choices</th>\n      <th>Generosity</th>\n      <th>Perceptions of corruption</th>\n      <th>Positive affect</th>\n      <th>Negative affect</th>\n      <th>Confidence in national government</th>\n      <th>Happiness Rank</th>\n      <th>Happiness Score</th>\n      <th>Freedom_Rating</th>\n      <th>Life Expectancy</th>\n      <th>GDP</th>\n    </tr>\n  </thead>\n  <tbody>\n    <tr>\n      <th>0</th>\n      <td>Afghanistan</td>\n      <td>2012</td>\n      <td>3.782938</td>\n      <td>7.637953</td>\n      <td>0.520637</td>\n      <td>51.700001</td>\n      <td>0.530935</td>\n      <td>0.241247</td>\n      <td>0.775620</td>\n      <td>0.613513</td>\n      <td>0.267919</td>\n      <td>0.435440</td>\n      <td>NaN</td>\n      <td>NaN</td>\n      <td>NaN</td>\n      <td>62.054</td>\n      <td>1.990732e+10</td>\n    </tr>\n    <tr>\n      <th>1</th>\n      <td>Afghanistan</td>\n      <td>2013</td>\n      <td>3.572100</td>\n      <td>7.657503</td>\n      <td>0.483552</td>\n      <td>52.000000</td>\n      <td>0.577955</td>\n      <td>0.066344</td>\n      <td>0.823204</td>\n      <td>0.547417</td>\n      <td>0.273328</td>\n      <td>0.482847</td>\n      <td>NaN</td>\n      <td>NaN</td>\n      <td>27.0</td>\n      <td>62.525</td>\n      <td>2.014640e+10</td>\n    </tr>\n    <tr>\n      <th>2</th>\n      <td>Afghanistan</td>\n      <td>2014</td>\n      <td>3.130896</td>\n      <td>7.650827</td>\n      <td>0.525568</td>\n      <td>52.299999</td>\n      <td>0.508514</td>\n      <td>0.109215</td>\n      <td>0.871242</td>\n      <td>0.491641</td>\n      <td>0.374861</td>\n      <td>0.409048</td>\n      <td>NaN</td>\n      <td>NaN</td>\n      <td>26.0</td>\n      <td>62.966</td>\n      <td>2.049713e+10</td>\n    </tr>\n    <tr>\n      <th>3</th>\n      <td>Afghanistan</td>\n      <td>2015</td>\n      <td>3.982855</td>\n      <td>7.634466</td>\n      <td>0.528597</td>\n      <td>52.599998</td>\n      <td>0.388928</td>\n      <td>0.085082</td>\n      <td>0.880638</td>\n      <td>0.491410</td>\n      <td>0.339276</td>\n      <td>0.260557</td>\n      <td>153.0</td>\n      <td>3.575</td>\n      <td>24.0</td>\n      <td>63.377</td>\n      <td>1.913421e+10</td>\n    </tr>\n    <tr>\n      <th>4</th>\n      <td>Afghanistan</td>\n      <td>2016</td>\n      <td>4.220169</td>\n      <td>7.629037</td>\n      <td>0.559072</td>\n      <td>52.924999</td>\n      <td>0.522566</td>\n      <td>0.047488</td>\n      <td>0.793246</td>\n      <td>0.501409</td>\n      <td>0.348332</td>\n      <td>0.324990</td>\n      <td>154.0</td>\n      <td>3.36</td>\n      <td>24.0</td>\n      <td>63.763</td>\n      <td>1.811656e+10</td>\n    </tr>\n    <tr>\n      <th>...</th>\n      <td>...</td>\n      <td>...</td>\n      <td>...</td>\n      <td>...</td>\n      <td>...</td>\n      <td>...</td>\n      <td>...</td>\n      <td>...</td>\n      <td>...</td>\n      <td>...</td>\n      <td>...</td>\n      <td>...</td>\n      <td>...</td>\n      <td>...</td>\n      <td>...</td>\n      <td>...</td>\n      <td>...</td>\n    </tr>\n    <tr>\n      <th>1372</th>\n      <td>Zimbabwe</td>\n      <td>2017</td>\n      <td>3.638300</td>\n      <td>8.241609</td>\n      <td>0.754147</td>\n      <td>52.150002</td>\n      <td>0.752826</td>\n      <td>-0.113937</td>\n      <td>0.751208</td>\n      <td>0.733641</td>\n      <td>0.224051</td>\n      <td>0.682647</td>\n      <td>138.0</td>\n      <td>3.875</td>\n      <td>32.0</td>\n      <td>60.812</td>\n      <td>1.758489e+10</td>\n    </tr>\n    <tr>\n      <th>1373</th>\n      <td>Zimbabwe</td>\n      <td>2018</td>\n      <td>3.616480</td>\n      <td>8.274620</td>\n      <td>0.775388</td>\n      <td>52.625000</td>\n      <td>0.762675</td>\n      <td>-0.084747</td>\n      <td>0.844209</td>\n      <td>0.657524</td>\n      <td>0.211726</td>\n      <td>0.550508</td>\n      <td>144.0</td>\n      <td>3.692</td>\n      <td>30.0</td>\n      <td>61.195</td>\n      <td>1.811554e+10</td>\n    </tr>\n    <tr>\n      <th>1374</th>\n      <td>Zimbabwe</td>\n      <td>2019</td>\n      <td>2.693523</td>\n      <td>8.196998</td>\n      <td>0.759162</td>\n      <td>53.099998</td>\n      <td>0.631908</td>\n      <td>-0.081540</td>\n      <td>0.830652</td>\n      <td>0.658434</td>\n      <td>0.235354</td>\n      <td>0.456455</td>\n      <td>146.0</td>\n      <td>3.663</td>\n      <td>31.0</td>\n      <td>61.490</td>\n      <td>1.928429e+10</td>\n    </tr>\n    <tr>\n      <th>1375</th>\n      <td>Zimbabwe</td>\n      <td>2020</td>\n      <td>3.159802</td>\n      <td>8.117733</td>\n      <td>0.717243</td>\n      <td>53.575001</td>\n      <td>0.643303</td>\n      <td>-0.029376</td>\n      <td>0.788523</td>\n      <td>0.660658</td>\n      <td>0.345736</td>\n      <td>0.577302</td>\n      <td>151.0</td>\n      <td>3.2992</td>\n      <td>29.0</td>\n      <td>61.738</td>\n      <td>1.805117e+10</td>\n    </tr>\n    <tr>\n      <th>1376</th>\n      <td>Zimbabwe</td>\n      <td>2021</td>\n      <td>3.154578</td>\n      <td>8.153248</td>\n      <td>0.685151</td>\n      <td>54.049999</td>\n      <td>0.667636</td>\n      <td>-0.109439</td>\n      <td>0.756945</td>\n      <td>0.609917</td>\n      <td>0.241682</td>\n      <td>0.665703</td>\n      <td>148.0</td>\n      <td>3.145</td>\n      <td>28.0</td>\n      <td>-1.000</td>\n      <td>2.621773e+10</td>\n    </tr>\n  </tbody>\n</table>\n<p>1377 rows × 17 columns</p>\n</div>"
     },
     "metadata": {},
     "execution_count": 223
    }
   ],
   "source": [
    "df"
   ]
  },
  {
   "cell_type": "code",
   "execution_count": null,
   "metadata": {},
   "outputs": [],
   "source": []
  }
 ],
 "metadata": {
  "language_info": {
   "codemirror_mode": {
    "name": "ipython",
    "version": 3
   },
   "file_extension": ".py",
   "mimetype": "text/x-python",
   "name": "python",
   "nbconvert_exporter": "python",
   "pygments_lexer": "ipython3",
   "version": "3.7.13-final"
  },
  "orig_nbformat": 2,
  "kernelspec": {
   "name": "python371364bitaienvconda4e3431b9d13b485386668a4ac1dbbc34",
   "display_name": "Python 3.7.13 64-bit ('ai_env': conda)"
  }
 },
 "nbformat": 4,
 "nbformat_minor": 2
}