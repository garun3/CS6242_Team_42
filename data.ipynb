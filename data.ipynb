{
 "cells": [
  {
   "cell_type": "code",
   "execution_count": 136,
   "metadata": {},
   "outputs": [
    {
     "output_type": "stream",
     "name": "stdout",
     "text": "Requirement already satisfied: xlrd in /Users/Gautham/miniconda3/envs/ai_env/lib/python3.7/site-packages (2.0.1)\nRequirement already satisfied: openpyxl in /Users/Gautham/miniconda3/envs/ai_env/lib/python3.7/site-packages (3.0.10)\nRequirement already satisfied: et-xmlfile in /Users/Gautham/miniconda3/envs/ai_env/lib/python3.7/site-packages (from openpyxl) (1.1.0)\n"
    }
   ],
   "source": [
    "import pandas as pd\n",
    "from sklearn import preprocessing\n",
    "!pip install xlrd\n",
    "!pip install openpyxl"
   ]
  },
  {
   "cell_type": "code",
   "execution_count": 137,
   "metadata": {},
   "outputs": [],
   "source": [
    "gdp_df = pd.read_csv('datasets/GDP1.csv')\n",
    "### Next line unpivots table to have each year on a single row\n",
    "gdp_df = pd.melt(gdp_df, id_vars='Country Name', value_vars=list(gdp_df.columns[4:]), var_name='Year', value_name='GDP')\n",
    "gdp_df = gdp_df.rename(columns={'Country Name': 'Country'})\n",
    "gdp_df['Year'] = gdp_df['Year'].astype('int64')"
   ]
  },
  {
   "cell_type": "code",
   "execution_count": 138,
   "metadata": {},
   "outputs": [],
   "source": [
    "# contains all other info about how happiness score was derived. From World Happiness Report\n",
    "happy_df = pd.read_excel('datasets/DataForTable2.1.xls')\n",
    "happy_df = happy_df.rename(columns={'Country name': 'Country', 'year': 'Year', 'Life Ladder': 'Happiness Score'})"
   ]
  },
  {
   "cell_type": "code",
   "execution_count": 139,
   "metadata": {},
   "outputs": [],
   "source": [
    "le_df = pd.read_csv('datasets/Life_Expectancy.csv')\n",
    "### Next line unpivots table to have each year on a single row\n",
    "le_df = pd.melt(le_df, id_vars='Country Name', value_vars=list(le_df.columns[4:]), var_name='Year', value_name='Life Expectancy')\n",
    "le_df = le_df.rename(columns={'Country Name': 'Country'})\n",
    "le_df['Year'] = le_df['Year'].astype('int64')"
   ]
  },
  {
   "cell_type": "code",
   "execution_count": 140,
   "metadata": {},
   "outputs": [],
   "source": [
    "xlsx = pd.ExcelFile('datasets/Freedom.xlsx')\n",
    "freedom_df = pd.read_excel(xlsx, 'FIW13-22', header=1)\n",
    "freedom_df = freedom_df.rename(columns={'Country/Territory': 'Country', 'Edition': 'Year', 'Total': 'Freedom_Rating'})\n",
    "freedom_df = freedom_df[['Country', 'Year', 'Freedom_Rating']]"
   ]
  },
  {
   "cell_type": "code",
   "execution_count": 147,
   "metadata": {},
   "outputs": [],
   "source": [
    "# merge all dfs\n",
    "df = happy_df.merge(freedom_df, on=['Country', 'Year'], how='inner')\n",
    "df = df.merge(le_df, on=['Country', 'Year'], how='inner')\n",
    "df = df.merge(gdp_df, on=['Country', 'Year'], how='inner')"
   ]
  },
  {
   "cell_type": "code",
   "execution_count": 142,
   "metadata": {},
   "outputs": [],
   "source": [
    "df.to_csv('all_data.csv')"
   ]
  },
  {
   "cell_type": "code",
   "execution_count": 152,
   "metadata": {},
   "outputs": [],
   "source": [
    "test = df.copy()\n",
    "# Divide happiness scores into percentiles based on year\n",
    "test['Happiness_Score_Percentile'] = df.groupby('Year')['Happiness Score'].transform(lambda x: pd.cut(x, bins=10, labels=[9,8,7,6,5,4,3,2,1,0]))\n",
    "test['Percentile Ranges'] = df.groupby('Year')['Happiness Score'].transform(lambda x: pd.cut(x, bins=10))"
   ]
  },
  {
   "cell_type": "code",
   "execution_count": 149,
   "metadata": {},
   "outputs": [],
   "source": [
    "normalized = test.copy()\n",
    "numeric_columns = normalized.select_dtypes(include=['number']).columns\n",
    "numeric_columns = numeric_columns[2:]\n",
    "# fill NaN with country's average\n",
    "normalized[numeric_columns] = normalized[numeric_columns].fillna(normalized.groupby('Country')[numeric_columns].transform('mean'))\n",
    "# Mean normalize each factor\n",
    "normalized[numeric_columns] = normalized.groupby('Year')[numeric_columns].transform(lambda x: (x - x.mean()) / x.std())"
   ]
  },
  {
   "cell_type": "code",
   "execution_count": 145,
   "metadata": {},
   "outputs": [],
   "source": [
    "normalized.to_csv('normalized_data.csv')"
   ]
  },
  {
   "cell_type": "code",
   "execution_count": null,
   "metadata": {},
   "outputs": [],
   "source": []
  },
  {
   "cell_type": "code",
   "execution_count": null,
   "metadata": {},
   "outputs": [],
   "source": []
  }
 ],
 "metadata": {
  "language_info": {
   "codemirror_mode": {
    "name": "ipython",
    "version": 3
   },
   "file_extension": ".py",
   "mimetype": "text/x-python",
   "name": "python",
   "nbconvert_exporter": "python",
   "pygments_lexer": "ipython3",
   "version": "3.7.13-final"
  },
  "orig_nbformat": 2,
  "kernelspec": {
   "name": "python371364bitaienvconda4e3431b9d13b485386668a4ac1dbbc34",
   "display_name": "Python 3.7.13 64-bit ('ai_env': conda)"
  }
 },
 "nbformat": 4,
 "nbformat_minor": 2
}